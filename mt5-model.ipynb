{
 "cells": [
  {
   "cell_type": "code",
   "execution_count": 1,
   "id": "c8788fb7",
   "metadata": {
    "_cell_guid": "b1076dfc-b9ad-4769-8c92-a6c4dae69d19",
    "_uuid": "8f2839f25d086af736a60e9eeb907d3b93b6e0e5",
    "execution": {
     "iopub.execute_input": "2025-06-22T10:46:21.044945Z",
     "iopub.status.busy": "2025-06-22T10:46:21.044717Z",
     "iopub.status.idle": "2025-06-22T10:46:23.260656Z",
     "shell.execute_reply": "2025-06-22T10:46:23.259808Z"
    },
    "papermill": {
     "duration": 2.225855,
     "end_time": "2025-06-22T10:46:23.261879",
     "exception": false,
     "start_time": "2025-06-22T10:46:21.036024",
     "status": "completed"
    },
    "tags": []
   },
   "outputs": [
    {
     "name": "stdout",
     "output_type": "stream",
     "text": [
      "/kaggle/input/arabic-summarization-bbc-news/bbc_news_arabic_summarization.csv\n",
      "/kaggle/input/arabic-summarization-bbc-news/arabic_test.jsonl\n"
     ]
    }
   ],
   "source": [
    "# This Python 3 environment comes with many helpful analytics libraries installed\n",
    "# It is defined by the kaggle/python Docker image: https://github.com/kaggle/docker-python\n",
    "# For example, here's several helpful packages to load\n",
    "\n",
    "import numpy as np # linear algebra\n",
    "import pandas as pd # data processing, CSV file I/O (e.g. pd.read_csv)\n",
    "\n",
    "# Input data files are available in the read-only \"../input/\" directory\n",
    "# For example, running this (by clicking run or pressing Shift+Enter) will list all files under the input directory\n",
    "\n",
    "import os\n",
    "for dirname, _, filenames in os.walk('/kaggle/input'):\n",
    "    for filename in filenames:\n",
    "        print(os.path.join(dirname, filename))\n",
    "\n",
    "# You can write up to 20GB to the current directory (/kaggle/working/) that gets preserved as output when you create a version using \"Save & Run All\" \n",
    "# You can also write temporary files to /kaggle/temp/, but they won't be saved outside of the current session"
   ]
  },
  {
   "cell_type": "code",
   "execution_count": 2,
   "id": "63c67449",
   "metadata": {
    "execution": {
     "iopub.execute_input": "2025-06-22T10:46:23.276551Z",
     "iopub.status.busy": "2025-06-22T10:46:23.276077Z",
     "iopub.status.idle": "2025-06-22T10:46:23.399093Z",
     "shell.execute_reply": "2025-06-22T10:46:23.398173Z"
    },
    "papermill": {
     "duration": 0.131634,
     "end_time": "2025-06-22T10:46:23.400546",
     "exception": false,
     "start_time": "2025-06-22T10:46:23.268912",
     "status": "completed"
    },
    "tags": []
   },
   "outputs": [
    {
     "name": "stdout",
     "output_type": "stream",
     "text": [
      "Python 3.11.11\r\n"
     ]
    }
   ],
   "source": [
    "!python --version\n"
   ]
  },
  {
   "cell_type": "code",
   "execution_count": 3,
   "id": "4c949f62",
   "metadata": {
    "collapsed": true,
    "execution": {
     "iopub.execute_input": "2025-06-22T10:46:23.415641Z",
     "iopub.status.busy": "2025-06-22T10:46:23.415401Z",
     "iopub.status.idle": "2025-06-22T10:49:00.135651Z",
     "shell.execute_reply": "2025-06-22T10:49:00.134880Z"
    },
    "jupyter": {
     "outputs_hidden": true
    },
    "papermill": {
     "duration": 156.729395,
     "end_time": "2025-06-22T10:49:00.136851",
     "exception": false,
     "start_time": "2025-06-22T10:46:23.407456",
     "status": "completed"
    },
    "tags": []
   },
   "outputs": [
    {
     "name": "stdout",
     "output_type": "stream",
     "text": [
      "/kaggle/input/arabic-summarization-bbc-news/bbc_news_arabic_summarization.csv\n",
      "/kaggle/input/arabic-summarization-bbc-news/arabic_test.jsonl\n",
      "Collecting rouge-score\r\n",
      "  Downloading rouge_score-0.1.2.tar.gz (17 kB)\r\n",
      "  Preparing metadata (setup.py) ... \u001b[?25l\u001b[?25hdone\r\n",
      "Requirement already satisfied: absl-py in /usr/local/lib/python3.11/dist-packages (from rouge-score) (1.4.0)\r\n",
      "Requirement already satisfied: nltk in /usr/local/lib/python3.11/dist-packages (from rouge-score) (3.9.1)\r\n",
      "Requirement already satisfied: numpy in /usr/local/lib/python3.11/dist-packages (from rouge-score) (1.26.4)\r\n",
      "Requirement already satisfied: six>=1.14.0 in /usr/local/lib/python3.11/dist-packages (from rouge-score) (1.17.0)\r\n",
      "Requirement already satisfied: click in /usr/local/lib/python3.11/dist-packages (from nltk->rouge-score) (8.1.8)\r\n",
      "Requirement already satisfied: joblib in /usr/local/lib/python3.11/dist-packages (from nltk->rouge-score) (1.5.0)\r\n",
      "Requirement already satisfied: regex>=2021.8.3 in /usr/local/lib/python3.11/dist-packages (from nltk->rouge-score) (2024.11.6)\r\n",
      "Requirement already satisfied: tqdm in /usr/local/lib/python3.11/dist-packages (from nltk->rouge-score) (4.67.1)\r\n",
      "Requirement already satisfied: mkl_fft in /usr/local/lib/python3.11/dist-packages (from numpy->rouge-score) (1.3.8)\r\n",
      "Requirement already satisfied: mkl_random in /usr/local/lib/python3.11/dist-packages (from numpy->rouge-score) (1.2.4)\r\n",
      "Requirement already satisfied: mkl_umath in /usr/local/lib/python3.11/dist-packages (from numpy->rouge-score) (0.1.1)\r\n",
      "Requirement already satisfied: mkl in /usr/local/lib/python3.11/dist-packages (from numpy->rouge-score) (2025.1.0)\r\n",
      "Requirement already satisfied: tbb4py in /usr/local/lib/python3.11/dist-packages (from numpy->rouge-score) (2022.1.0)\r\n",
      "Requirement already satisfied: mkl-service in /usr/local/lib/python3.11/dist-packages (from numpy->rouge-score) (2.4.1)\r\n",
      "Requirement already satisfied: intel-openmp<2026,>=2024 in /usr/local/lib/python3.11/dist-packages (from mkl->numpy->rouge-score) (2024.2.0)\r\n",
      "Requirement already satisfied: tbb==2022.* in /usr/local/lib/python3.11/dist-packages (from mkl->numpy->rouge-score) (2022.1.0)\r\n",
      "Requirement already satisfied: tcmlib==1.* in /usr/local/lib/python3.11/dist-packages (from tbb==2022.*->mkl->numpy->rouge-score) (1.3.0)\r\n",
      "Requirement already satisfied: intel-cmplr-lib-rt in /usr/local/lib/python3.11/dist-packages (from mkl_umath->numpy->rouge-score) (2024.2.0)\r\n",
      "Requirement already satisfied: intel-cmplr-lib-ur==2024.2.0 in /usr/local/lib/python3.11/dist-packages (from intel-openmp<2026,>=2024->mkl->numpy->rouge-score) (2024.2.0)\r\n",
      "Building wheels for collected packages: rouge-score\r\n",
      "  Building wheel for rouge-score (setup.py) ... \u001b[?25l\u001b[?25hdone\r\n",
      "  Created wheel for rouge-score: filename=rouge_score-0.1.2-py3-none-any.whl size=24934 sha256=47acf025d95ddfc9f143475f0875ac0e055ecc53ae1c553d7d3817ff48e76d26\r\n",
      "  Stored in directory: /root/.cache/pip/wheels/1e/19/43/8a442dc83660ca25e163e1bd1f89919284ab0d0c1475475148\r\n",
      "Successfully built rouge-score\r\n",
      "Installing collected packages: rouge-score\r\n",
      "Successfully installed rouge-score-0.1.2\r\n",
      "Requirement already satisfied: pytorch-lightning in /usr/local/lib/python3.11/dist-packages (2.5.1.post0)\r\n",
      "Requirement already satisfied: torch>=2.1.0 in /usr/local/lib/python3.11/dist-packages (from pytorch-lightning) (2.6.0+cu124)\r\n",
      "Requirement already satisfied: tqdm>=4.57.0 in /usr/local/lib/python3.11/dist-packages (from pytorch-lightning) (4.67.1)\r\n",
      "Requirement already satisfied: PyYAML>=5.4 in /usr/local/lib/python3.11/dist-packages (from pytorch-lightning) (6.0.2)\r\n",
      "Requirement already satisfied: fsspec>=2022.5.0 in /usr/local/lib/python3.11/dist-packages (from fsspec[http]>=2022.5.0->pytorch-lightning) (2025.3.2)\r\n",
      "Requirement already satisfied: torchmetrics>=0.7.0 in /usr/local/lib/python3.11/dist-packages (from pytorch-lightning) (1.7.1)\r\n",
      "Requirement already satisfied: packaging>=20.0 in /usr/local/lib/python3.11/dist-packages (from pytorch-lightning) (25.0)\r\n",
      "Requirement already satisfied: typing-extensions>=4.4.0 in /usr/local/lib/python3.11/dist-packages (from pytorch-lightning) (4.13.2)\r\n",
      "Requirement already satisfied: lightning-utilities>=0.10.0 in /usr/local/lib/python3.11/dist-packages (from pytorch-lightning) (0.14.3)\r\n",
      "Requirement already satisfied: aiohttp!=4.0.0a0,!=4.0.0a1 in /usr/local/lib/python3.11/dist-packages (from fsspec[http]>=2022.5.0->pytorch-lightning) (3.11.18)\r\n",
      "Requirement already satisfied: setuptools in /usr/local/lib/python3.11/dist-packages (from lightning-utilities>=0.10.0->pytorch-lightning) (75.2.0)\r\n",
      "Requirement already satisfied: filelock in /usr/local/lib/python3.11/dist-packages (from torch>=2.1.0->pytorch-lightning) (3.18.0)\r\n",
      "Requirement already satisfied: networkx in /usr/local/lib/python3.11/dist-packages (from torch>=2.1.0->pytorch-lightning) (3.4.2)\r\n",
      "Requirement already satisfied: jinja2 in /usr/local/lib/python3.11/dist-packages (from torch>=2.1.0->pytorch-lightning) (3.1.6)\r\n",
      "Requirement already satisfied: nvidia-cuda-nvrtc-cu12==12.4.127 in /usr/local/lib/python3.11/dist-packages (from torch>=2.1.0->pytorch-lightning) (12.4.127)\r\n",
      "Requirement already satisfied: nvidia-cuda-runtime-cu12==12.4.127 in /usr/local/lib/python3.11/dist-packages (from torch>=2.1.0->pytorch-lightning) (12.4.127)\r\n",
      "Requirement already satisfied: nvidia-cuda-cupti-cu12==12.4.127 in /usr/local/lib/python3.11/dist-packages (from torch>=2.1.0->pytorch-lightning) (12.4.127)\r\n",
      "Collecting nvidia-cudnn-cu12==9.1.0.70 (from torch>=2.1.0->pytorch-lightning)\r\n",
      "  Downloading nvidia_cudnn_cu12-9.1.0.70-py3-none-manylinux2014_x86_64.whl.metadata (1.6 kB)\r\n",
      "Collecting nvidia-cublas-cu12==12.4.5.8 (from torch>=2.1.0->pytorch-lightning)\r\n",
      "  Downloading nvidia_cublas_cu12-12.4.5.8-py3-none-manylinux2014_x86_64.whl.metadata (1.5 kB)\r\n",
      "Collecting nvidia-cufft-cu12==11.2.1.3 (from torch>=2.1.0->pytorch-lightning)\r\n",
      "  Downloading nvidia_cufft_cu12-11.2.1.3-py3-none-manylinux2014_x86_64.whl.metadata (1.5 kB)\r\n",
      "Collecting nvidia-curand-cu12==10.3.5.147 (from torch>=2.1.0->pytorch-lightning)\r\n",
      "  Downloading nvidia_curand_cu12-10.3.5.147-py3-none-manylinux2014_x86_64.whl.metadata (1.5 kB)\r\n",
      "Collecting nvidia-cusolver-cu12==11.6.1.9 (from torch>=2.1.0->pytorch-lightning)\r\n",
      "  Downloading nvidia_cusolver_cu12-11.6.1.9-py3-none-manylinux2014_x86_64.whl.metadata (1.6 kB)\r\n",
      "Collecting nvidia-cusparse-cu12==12.3.1.170 (from torch>=2.1.0->pytorch-lightning)\r\n",
      "  Downloading nvidia_cusparse_cu12-12.3.1.170-py3-none-manylinux2014_x86_64.whl.metadata (1.6 kB)\r\n",
      "Requirement already satisfied: nvidia-cusparselt-cu12==0.6.2 in /usr/local/lib/python3.11/dist-packages (from torch>=2.1.0->pytorch-lightning) (0.6.2)\r\n",
      "Requirement already satisfied: nvidia-nccl-cu12==2.21.5 in /usr/local/lib/python3.11/dist-packages (from torch>=2.1.0->pytorch-lightning) (2.21.5)\r\n",
      "Requirement already satisfied: nvidia-nvtx-cu12==12.4.127 in /usr/local/lib/python3.11/dist-packages (from torch>=2.1.0->pytorch-lightning) (12.4.127)\r\n",
      "Collecting nvidia-nvjitlink-cu12==12.4.127 (from torch>=2.1.0->pytorch-lightning)\r\n",
      "  Downloading nvidia_nvjitlink_cu12-12.4.127-py3-none-manylinux2014_x86_64.whl.metadata (1.5 kB)\r\n",
      "Requirement already satisfied: triton==3.2.0 in /usr/local/lib/python3.11/dist-packages (from torch>=2.1.0->pytorch-lightning) (3.2.0)\r\n",
      "Requirement already satisfied: sympy==1.13.1 in /usr/local/lib/python3.11/dist-packages (from torch>=2.1.0->pytorch-lightning) (1.13.1)\r\n",
      "Requirement already satisfied: mpmath<1.4,>=1.1.0 in /usr/local/lib/python3.11/dist-packages (from sympy==1.13.1->torch>=2.1.0->pytorch-lightning) (1.3.0)\r\n",
      "Requirement already satisfied: numpy>1.20.0 in /usr/local/lib/python3.11/dist-packages (from torchmetrics>=0.7.0->pytorch-lightning) (1.26.4)\r\n",
      "Requirement already satisfied: aiohappyeyeballs>=2.3.0 in /usr/local/lib/python3.11/dist-packages (from aiohttp!=4.0.0a0,!=4.0.0a1->fsspec[http]>=2022.5.0->pytorch-lightning) (2.6.1)\r\n",
      "Requirement already satisfied: aiosignal>=1.1.2 in /usr/local/lib/python3.11/dist-packages (from aiohttp!=4.0.0a0,!=4.0.0a1->fsspec[http]>=2022.5.0->pytorch-lightning) (1.3.2)\r\n",
      "Requirement already satisfied: attrs>=17.3.0 in /usr/local/lib/python3.11/dist-packages (from aiohttp!=4.0.0a0,!=4.0.0a1->fsspec[http]>=2022.5.0->pytorch-lightning) (25.3.0)\r\n",
      "Requirement already satisfied: frozenlist>=1.1.1 in /usr/local/lib/python3.11/dist-packages (from aiohttp!=4.0.0a0,!=4.0.0a1->fsspec[http]>=2022.5.0->pytorch-lightning) (1.6.0)\r\n",
      "Requirement already satisfied: multidict<7.0,>=4.5 in /usr/local/lib/python3.11/dist-packages (from aiohttp!=4.0.0a0,!=4.0.0a1->fsspec[http]>=2022.5.0->pytorch-lightning) (6.4.3)\r\n",
      "Requirement already satisfied: propcache>=0.2.0 in /usr/local/lib/python3.11/dist-packages (from aiohttp!=4.0.0a0,!=4.0.0a1->fsspec[http]>=2022.5.0->pytorch-lightning) (0.3.1)\r\n",
      "Requirement already satisfied: yarl<2.0,>=1.17.0 in /usr/local/lib/python3.11/dist-packages (from aiohttp!=4.0.0a0,!=4.0.0a1->fsspec[http]>=2022.5.0->pytorch-lightning) (1.20.0)\r\n",
      "Requirement already satisfied: mkl_fft in /usr/local/lib/python3.11/dist-packages (from numpy>1.20.0->torchmetrics>=0.7.0->pytorch-lightning) (1.3.8)\r\n",
      "Requirement already satisfied: mkl_random in /usr/local/lib/python3.11/dist-packages (from numpy>1.20.0->torchmetrics>=0.7.0->pytorch-lightning) (1.2.4)\r\n",
      "Requirement already satisfied: mkl_umath in /usr/local/lib/python3.11/dist-packages (from numpy>1.20.0->torchmetrics>=0.7.0->pytorch-lightning) (0.1.1)\r\n",
      "Requirement already satisfied: mkl in /usr/local/lib/python3.11/dist-packages (from numpy>1.20.0->torchmetrics>=0.7.0->pytorch-lightning) (2025.1.0)\r\n",
      "Requirement already satisfied: tbb4py in /usr/local/lib/python3.11/dist-packages (from numpy>1.20.0->torchmetrics>=0.7.0->pytorch-lightning) (2022.1.0)\r\n",
      "Requirement already satisfied: mkl-service in /usr/local/lib/python3.11/dist-packages (from numpy>1.20.0->torchmetrics>=0.7.0->pytorch-lightning) (2.4.1)\r\n",
      "Requirement already satisfied: MarkupSafe>=2.0 in /usr/local/lib/python3.11/dist-packages (from jinja2->torch>=2.1.0->pytorch-lightning) (3.0.2)\r\n",
      "Requirement already satisfied: idna>=2.0 in /usr/local/lib/python3.11/dist-packages (from yarl<2.0,>=1.17.0->aiohttp!=4.0.0a0,!=4.0.0a1->fsspec[http]>=2022.5.0->pytorch-lightning) (3.10)\r\n",
      "Requirement already satisfied: intel-openmp<2026,>=2024 in /usr/local/lib/python3.11/dist-packages (from mkl->numpy>1.20.0->torchmetrics>=0.7.0->pytorch-lightning) (2024.2.0)\r\n",
      "Requirement already satisfied: tbb==2022.* in /usr/local/lib/python3.11/dist-packages (from mkl->numpy>1.20.0->torchmetrics>=0.7.0->pytorch-lightning) (2022.1.0)\r\n",
      "Requirement already satisfied: tcmlib==1.* in /usr/local/lib/python3.11/dist-packages (from tbb==2022.*->mkl->numpy>1.20.0->torchmetrics>=0.7.0->pytorch-lightning) (1.3.0)\r\n",
      "Requirement already satisfied: intel-cmplr-lib-rt in /usr/local/lib/python3.11/dist-packages (from mkl_umath->numpy>1.20.0->torchmetrics>=0.7.0->pytorch-lightning) (2024.2.0)\r\n",
      "Requirement already satisfied: intel-cmplr-lib-ur==2024.2.0 in /usr/local/lib/python3.11/dist-packages (from intel-openmp<2026,>=2024->mkl->numpy>1.20.0->torchmetrics>=0.7.0->pytorch-lightning) (2024.2.0)\r\n",
      "Downloading nvidia_cublas_cu12-12.4.5.8-py3-none-manylinux2014_x86_64.whl (363.4 MB)\r\n",
      "\u001b[2K   \u001b[90m━━━━━━━━━━━━━━━━━━━━━━━━━━━━━━━━━━━━━━━━\u001b[0m \u001b[32m363.4/363.4 MB\u001b[0m \u001b[31m4.7 MB/s\u001b[0m eta \u001b[36m0:00:00\u001b[0m\r\n",
      "\u001b[?25hDownloading nvidia_cudnn_cu12-9.1.0.70-py3-none-manylinux2014_x86_64.whl (664.8 MB)\r\n",
      "\u001b[2K   \u001b[90m━━━━━━━━━━━━━━━━━━━━━━━━━━━━━━━━━━━━━━━━\u001b[0m \u001b[32m664.8/664.8 MB\u001b[0m \u001b[31m2.6 MB/s\u001b[0m eta \u001b[36m0:00:00\u001b[0m\r\n",
      "\u001b[?25hDownloading nvidia_cufft_cu12-11.2.1.3-py3-none-manylinux2014_x86_64.whl (211.5 MB)\r\n",
      "\u001b[2K   \u001b[90m━━━━━━━━━━━━━━━━━━━━━━━━━━━━━━━━━━━━━━━━\u001b[0m \u001b[32m211.5/211.5 MB\u001b[0m \u001b[31m6.4 MB/s\u001b[0m eta \u001b[36m0:00:00\u001b[0m\r\n",
      "\u001b[?25hDownloading nvidia_curand_cu12-10.3.5.147-py3-none-manylinux2014_x86_64.whl (56.3 MB)\r\n",
      "\u001b[2K   \u001b[90m━━━━━━━━━━━━━━━━━━━━━━━━━━━━━━━━━━━━━━━━\u001b[0m \u001b[32m56.3/56.3 MB\u001b[0m \u001b[31m30.3 MB/s\u001b[0m eta \u001b[36m0:00:00\u001b[0m\r\n",
      "\u001b[?25hDownloading nvidia_cusolver_cu12-11.6.1.9-py3-none-manylinux2014_x86_64.whl (127.9 MB)\r\n",
      "\u001b[2K   \u001b[90m━━━━━━━━━━━━━━━━━━━━━━━━━━━━━━━━━━━━━━━━\u001b[0m \u001b[32m127.9/127.9 MB\u001b[0m \u001b[31m13.6 MB/s\u001b[0m eta \u001b[36m0:00:00\u001b[0m\r\n",
      "\u001b[?25hDownloading nvidia_cusparse_cu12-12.3.1.170-py3-none-manylinux2014_x86_64.whl (207.5 MB)\r\n",
      "\u001b[2K   \u001b[90m━━━━━━━━━━━━━━━━━━━━━━━━━━━━━━━━━━━━━━━━\u001b[0m \u001b[32m207.5/207.5 MB\u001b[0m \u001b[31m2.2 MB/s\u001b[0m eta \u001b[36m0:00:00\u001b[0m\r\n",
      "\u001b[?25hDownloading nvidia_nvjitlink_cu12-12.4.127-py3-none-manylinux2014_x86_64.whl (21.1 MB)\r\n",
      "\u001b[2K   \u001b[90m━━━━━━━━━━━━━━━━━━━━━━━━━━━━━━━━━━━━━━━━\u001b[0m \u001b[32m21.1/21.1 MB\u001b[0m \u001b[31m13.9 MB/s\u001b[0m eta \u001b[36m0:00:00\u001b[0m\r\n",
      "\u001b[?25hInstalling collected packages: nvidia-nvjitlink-cu12, nvidia-curand-cu12, nvidia-cufft-cu12, nvidia-cublas-cu12, nvidia-cusparse-cu12, nvidia-cudnn-cu12, nvidia-cusolver-cu12\r\n",
      "  Attempting uninstall: nvidia-nvjitlink-cu12\r\n",
      "    Found existing installation: nvidia-nvjitlink-cu12 12.9.41\r\n",
      "    Uninstalling nvidia-nvjitlink-cu12-12.9.41:\r\n",
      "      Successfully uninstalled nvidia-nvjitlink-cu12-12.9.41\r\n",
      "  Attempting uninstall: nvidia-curand-cu12\r\n",
      "    Found existing installation: nvidia-curand-cu12 10.3.10.19\r\n",
      "    Uninstalling nvidia-curand-cu12-10.3.10.19:\r\n",
      "      Successfully uninstalled nvidia-curand-cu12-10.3.10.19\r\n",
      "  Attempting uninstall: nvidia-cufft-cu12\r\n",
      "    Found existing installation: nvidia-cufft-cu12 11.4.0.6\r\n",
      "    Uninstalling nvidia-cufft-cu12-11.4.0.6:\r\n",
      "      Successfully uninstalled nvidia-cufft-cu12-11.4.0.6\r\n",
      "  Attempting uninstall: nvidia-cublas-cu12\r\n",
      "    Found existing installation: nvidia-cublas-cu12 12.9.0.13\r\n",
      "    Uninstalling nvidia-cublas-cu12-12.9.0.13:\r\n",
      "      Successfully uninstalled nvidia-cublas-cu12-12.9.0.13\r\n",
      "  Attempting uninstall: nvidia-cusparse-cu12\r\n",
      "    Found existing installation: nvidia-cusparse-cu12 12.5.9.5\r\n",
      "    Uninstalling nvidia-cusparse-cu12-12.5.9.5:\r\n",
      "      Successfully uninstalled nvidia-cusparse-cu12-12.5.9.5\r\n",
      "  Attempting uninstall: nvidia-cudnn-cu12\r\n",
      "    Found existing installation: nvidia-cudnn-cu12 9.3.0.75\r\n",
      "    Uninstalling nvidia-cudnn-cu12-9.3.0.75:\r\n",
      "      Successfully uninstalled nvidia-cudnn-cu12-9.3.0.75\r\n",
      "  Attempting uninstall: nvidia-cusolver-cu12\r\n",
      "    Found existing installation: nvidia-cusolver-cu12 11.7.4.40\r\n",
      "    Uninstalling nvidia-cusolver-cu12-11.7.4.40:\r\n",
      "      Successfully uninstalled nvidia-cusolver-cu12-11.7.4.40\r\n",
      "Successfully installed nvidia-cublas-cu12-12.4.5.8 nvidia-cudnn-cu12-9.1.0.70 nvidia-cufft-cu12-11.2.1.3 nvidia-curand-cu12-10.3.5.147 nvidia-cusolver-cu12-11.6.1.9 nvidia-cusparse-cu12-12.3.1.170 nvidia-nvjitlink-cu12-12.4.127\r\n"
     ]
    },
    {
     "name": "stderr",
     "output_type": "stream",
     "text": [
      "2025-06-22 10:48:24.764883: E external/local_xla/xla/stream_executor/cuda/cuda_fft.cc:477] Unable to register cuFFT factory: Attempting to register factory for plugin cuFFT when one has already been registered\n",
      "WARNING: All log messages before absl::InitializeLog() is called are written to STDERR\n",
      "E0000 00:00:1750589305.188087      19 cuda_dnn.cc:8310] Unable to register cuDNN factory: Attempting to register factory for plugin cuDNN when one has already been registered\n",
      "E0000 00:00:1750589305.299928      19 cuda_blas.cc:1418] Unable to register cuBLAS factory: Attempting to register factory for plugin cuBLAS when one has already been registered\n"
     ]
    },
    {
     "name": "stdout",
     "output_type": "stream",
     "text": [
      "✅ Toutes les bibliothèques importées avec succès!\n",
      "PyTorch version: 2.6.0+cu124\n",
      "CUDA disponible: True\n",
      "🔄 Chargement des données...\n",
      "Données brutes: 46897 exemples\n",
      "Après suppression des doublons: 46690 exemples\n",
      "🧹 Nettoyage des textes...\n",
      "Données finales après filtrage: 25253 exemples\n",
      "📊 Statistiques des textes:\n",
      "Nombre total d'exemples: 25253\n",
      "Longueur moyenne des paragraphes: 1272.40\n",
      "Longueur moyenne des résumés: 141.84\n",
      "Longueur max des paragraphes: 1999\n",
      "Longueur max des résumés: 489\n"
     ]
    },
    {
     "data": {
      "text/html": [
       "<div>\n",
       "<style scoped>\n",
       "    .dataframe tbody tr th:only-of-type {\n",
       "        vertical-align: middle;\n",
       "    }\n",
       "\n",
       "    .dataframe tbody tr th {\n",
       "        vertical-align: top;\n",
       "    }\n",
       "\n",
       "    .dataframe thead th {\n",
       "        text-align: right;\n",
       "    }\n",
       "</style>\n",
       "<table border=\"1\" class=\"dataframe\">\n",
       "  <thead>\n",
       "    <tr style=\"text-align: right;\">\n",
       "      <th></th>\n",
       "      <th>summary</th>\n",
       "      <th>paragraph</th>\n",
       "      <th>paragraph_len</th>\n",
       "      <th>summary_len</th>\n",
       "    </tr>\n",
       "  </thead>\n",
       "  <tbody>\n",
       "    <tr>\n",
       "      <th>0</th>\n",
       "      <td>قالت الشرطه في القطاع الهندي من اقليم كشمير ان...</td>\n",
       "      <td>وذكرت وكاله الانباء المحليه (جي.ان.اس) ان جماع...</td>\n",
       "      <td>646</td>\n",
       "      <td>163</td>\n",
       "    </tr>\n",
       "    <tr>\n",
       "      <th>1</th>\n",
       "      <td>اكد مصدر في \"الحراك التهامي\" لابناء محافظه الح...</td>\n",
       "      <td>مسلح حوثي في اب وقال المصدر ان المسلحين الحوثي...</td>\n",
       "      <td>1100</td>\n",
       "      <td>324</td>\n",
       "    </tr>\n",
       "    <tr>\n",
       "      <th>2</th>\n",
       "      <td>افادت مصادر حركه حماس ان كتائب القسام، الجناح ...</td>\n",
       "      <td>وكانت اذاعه الجيش الاسرائيلي افادت بمقتل ثلاثه...</td>\n",
       "      <td>342</td>\n",
       "      <td>109</td>\n",
       "    </tr>\n",
       "    <tr>\n",
       "      <th>3</th>\n",
       "      <td>افادت مصادر مقربه من المعارضه السوريه بمقتل اك...</td>\n",
       "      <td>مسلحو المعارضه في ريف حلب وقال ياسين ابو رائد ...</td>\n",
       "      <td>425</td>\n",
       "      <td>163</td>\n",
       "    </tr>\n",
       "    <tr>\n",
       "      <th>4</th>\n",
       "      <td>استقال رئيس الاركان الليبي يوسف المنقوش اثر مق...</td>\n",
       "      <td>قبل المؤتمر العام الوطني الليبي الاستقاله وقبل...</td>\n",
       "      <td>600</td>\n",
       "      <td>145</td>\n",
       "    </tr>\n",
       "  </tbody>\n",
       "</table>\n",
       "</div>"
      ],
      "text/plain": [
       "                                             summary  \\\n",
       "0  قالت الشرطه في القطاع الهندي من اقليم كشمير ان...   \n",
       "1  اكد مصدر في \"الحراك التهامي\" لابناء محافظه الح...   \n",
       "2  افادت مصادر حركه حماس ان كتائب القسام، الجناح ...   \n",
       "3  افادت مصادر مقربه من المعارضه السوريه بمقتل اك...   \n",
       "4  استقال رئيس الاركان الليبي يوسف المنقوش اثر مق...   \n",
       "\n",
       "                                           paragraph  paragraph_len  \\\n",
       "0  وذكرت وكاله الانباء المحليه (جي.ان.اس) ان جماع...            646   \n",
       "1  مسلح حوثي في اب وقال المصدر ان المسلحين الحوثي...           1100   \n",
       "2  وكانت اذاعه الجيش الاسرائيلي افادت بمقتل ثلاثه...            342   \n",
       "3  مسلحو المعارضه في ريف حلب وقال ياسين ابو رائد ...            425   \n",
       "4  قبل المؤتمر العام الوطني الليبي الاستقاله وقبل...            600   \n",
       "\n",
       "   summary_len  \n",
       "0          163  \n",
       "1          324  \n",
       "2          109  \n",
       "3          163  \n",
       "4          145  "
      ]
     },
     "execution_count": 3,
     "metadata": {},
     "output_type": "execute_result"
    }
   ],
   "source": [
    "# CELLULE 1: Imports et vérification des fichiers\n",
    "# ====================================================================================\n",
    "\n",
    "# This Python 3 environment comes with many helpful analytics libraries installed\n",
    "# It is defined by the kaggle/python Docker image: https://github.com/kaggle/docker-python\n",
    "# For example, here's several helpful packages to load\n",
    "\n",
    "import numpy as np # linear algebra\n",
    "import pandas as pd # data processing, CSV file I/O (e.g. pd.read_csv)\n",
    "\n",
    "# Input data files are available in the read-only \"../input/\" directory\n",
    "# For example, running this (by clicking run or pressing Shift+Enter) will list all files under the input directory\n",
    "\n",
    "import os\n",
    "for dirname, _, filenames in os.walk('/kaggle/input'):\n",
    "    for filename in filenames:\n",
    "        print(os.path.join(dirname, filename))\n",
    "\n",
    "# You can write up to 20GB to the current directory (/kaggle/working/) that gets preserved as output when you create a version using \"Save & Run All\" \n",
    "# You can also write temporary files to /kaggle/temp/, but they won't be saved outside of the current session\n",
    "\n",
    "# ====================================================================================\n",
    "# CELLULE 2: Installation des packages nécessaires\n",
    "# ====================================================================================\n",
    "\n",
    "!pip install rouge-score\n",
    "!pip install pytorch-lightning\n",
    "\n",
    "# ====================================================================================\n",
    "# CELLULE 3: Imports des bibliothèques\n",
    "# ====================================================================================\n",
    "\n",
    "import pandas as pd \n",
    "import numpy as np\n",
    "import re\n",
    "import torch\n",
    "from torch.utils.data import Dataset, DataLoader\n",
    "import pytorch_lightning as pl\n",
    "from pytorch_lightning.callbacks import ModelCheckpoint, EarlyStopping\n",
    "from transformers import MT5Tokenizer, MT5ForConditionalGeneration\n",
    "from rouge_score import rouge_scorer\n",
    "from sklearn.model_selection import train_test_split\n",
    "from tqdm.auto import tqdm\n",
    "import json\n",
    "import matplotlib.pyplot as plt\n",
    "import seaborn as sns\n",
    "\n",
    "print(\"✅ Toutes les bibliothèques importées avec succès!\")\n",
    "print(f\"PyTorch version: {torch.__version__}\")\n",
    "print(f\"CUDA disponible: {torch.cuda.is_available()}\")\n",
    "\n",
    "# ====================================================================================\n",
    "# CELLULE 4: Fonctions de préprocessing améliorées\n",
    "# ====================================================================================\n",
    "\n",
    "def clean_arabic_text(text):\n",
    "    \"\"\"Nettoyage plus doux du texte arabe - préservation de la structure\"\"\"\n",
    "    if pd.isna(text):\n",
    "        return \"\"\n",
    "    \n",
    "    text = str(text)\n",
    "    \n",
    "    # Supprimer les URLs\n",
    "    text = re.sub(r'http[s]?://(?:[a-zA-Z]|[0-9]|[$-_@.&+]|[!*\\\\(\\\\),]|(?:%[0-9a-fA-F][0-9a-fA-F]))+', '', text)\n",
    "    \n",
    "    # Supprimer les caractères de contrôle\n",
    "    text = re.sub(r'[\\x00-\\x1f\\x7f-\\x9f]', '', text)\n",
    "    \n",
    "    # Normaliser les espaces multiples\n",
    "    text = re.sub(r'\\s+', ' ', text)\n",
    "    \n",
    "    # Normalisation des lettres arabes communes (optionnel)\n",
    "    text = text.replace('أ', 'ا').replace('إ', 'ا').replace('آ', 'ا')\n",
    "    text = text.replace('ة', 'ه')\n",
    "    \n",
    "    # Supprimer les diacritiques (تشكيل) - optionnel\n",
    "    arabic_diacritics = re.compile(r'[\\u064B-\\u0652\\u0670\\u0640]')\n",
    "    text = arabic_diacritics.sub('', text)\n",
    "    \n",
    "    return text.strip()\n",
    "\n",
    "def analyze_text_stats(df):\n",
    "    \"\"\"Analyser les statistiques du texte\"\"\"\n",
    "    print(\"📊 Statistiques des textes:\")\n",
    "    print(f\"Nombre total d'exemples: {len(df)}\")\n",
    "    \n",
    "    df['paragraph_len'] = df['paragraph'].str.len()\n",
    "    df['summary_len'] = df['summary'].str.len()\n",
    "    \n",
    "    print(f\"Longueur moyenne des paragraphes: {df['paragraph_len'].mean():.2f}\")\n",
    "    print(f\"Longueur moyenne des résumés: {df['summary_len'].mean():.2f}\")\n",
    "    print(f\"Longueur max des paragraphes: {df['paragraph_len'].max()}\")\n",
    "    print(f\"Longueur max des résumés: {df['summary_len'].max()}\")\n",
    "    \n",
    "    return df\n",
    "\n",
    "# ====================================================================================\n",
    "# CELLULE 5: Chargement et préparation des données\n",
    "# ====================================================================================\n",
    "\n",
    "def prepare_data():\n",
    "    \"\"\"Charger et préparer les données d'entraînement\"\"\"\n",
    "    print(\"🔄 Chargement des données...\")\n",
    "    \n",
    "    # Charger les données\n",
    "    data = pd.read_csv('/kaggle/input/arabic-summarization-bbc-news/bbc_news_arabic_summarization.csv')\n",
    "    data = data.drop(['id', 'url', 'title'], axis=1)\n",
    "    data = data.rename(columns={'text': 'paragraph', 'summary': 'summary'})\n",
    "    \n",
    "    print(f\"Données brutes: {len(data)} exemples\")\n",
    "    \n",
    "    # Supprimer les doublons\n",
    "    data = data.drop_duplicates(subset=['paragraph'])\n",
    "    data = data.drop_duplicates(subset=['summary'])\n",
    "    print(f\"Après suppression des doublons: {len(data)} exemples\")\n",
    "    \n",
    "    # Nettoyer le texte\n",
    "    print(\"🧹 Nettoyage des textes...\")\n",
    "    data['paragraph'] = data['paragraph'].apply(clean_arabic_text)\n",
    "    data['summary'] = data['summary'].apply(clean_arabic_text)\n",
    "    \n",
    "    # Filtrer les données vides ou anormales\n",
    "    data = data[\n",
    "        (data['paragraph'].str.len() > 50) & \n",
    "        (data['summary'].str.len() > 10) &\n",
    "        (data['paragraph'].str.len() < 2000) &  # Éviter les textes trop longs\n",
    "        (data['summary'].str.len() < 500)\n",
    "    ]\n",
    "    \n",
    "    print(f\"Données finales après filtrage: {len(data)} exemples\")\n",
    "    \n",
    "    # Analyser les statistiques\n",
    "    data = analyze_text_stats(data)\n",
    "    \n",
    "    return data.reset_index(drop=True)\n",
    "\n",
    "# Charger les données\n",
    "xl_sum = prepare_data()\n",
    "xl_sum.head()"
   ]
  },
  {
   "cell_type": "code",
   "execution_count": 4,
   "id": "2608afb8",
   "metadata": {
    "execution": {
     "iopub.execute_input": "2025-06-22T10:49:00.192699Z",
     "iopub.status.busy": "2025-06-22T10:49:00.192391Z",
     "iopub.status.idle": "2025-06-22T10:49:04.161975Z",
     "shell.execute_reply": "2025-06-22T10:49:04.161036Z"
    },
    "papermill": {
     "duration": 3.998759,
     "end_time": "2025-06-22T10:49:04.163246",
     "exception": false,
     "start_time": "2025-06-22T10:49:00.164487",
     "status": "completed"
    },
    "tags": []
   },
   "outputs": [
    {
     "data": {
      "image/png": "[encoded data removed]",
      "text/plain": [
       "<Figure size 1500x1000 with 4 Axes>"
      ]
     },
     "metadata": {},
     "output_type": "display_data"
    },
    {
     "name": "stdout",
     "output_type": "stream",
     "text": [
      "\n",
      "📄 Exemples de données:\n",
      "\n",
      "--- Exemple 1 ---\n",
      "Paragraphe: وذكرت وكاله الانباء المحليه (جي.ان.اس) ان جماعه \"جيش محمد\" المتشدده اعلنت مسؤوليتها عن الهجوم. لكن ما هي منطقه كشمير المتنازع عليها بين الهند وباكستان؟ خلال العقود الست الماضيه ظلت منطقه كشمير القريبه...\n",
      "Résumé: قالت الشرطه في القطاع الهندي من اقليم كشمير ان انفجار قنبله ادى الى مقتل 40 عنصرا على الاقل من قوات الامن الخميس، بعد يوم من انفجار ادى لاصابه 12 تلميذا على الاقل.\n",
      "\n",
      "--- Exemple 2 ---\n",
      "Paragraphe: مسلح حوثي في اب وقال المصدر ان المسلحين الحوثيين هاجموا نشطاء الحراك التهامي لافشال ترتيبات كانوا يجرونها لتنظيم حشود الجمعه تحت شعار \" رافضون \" للتنديد باجتياح المسلحين الحوثيين للمحافظه وترتيب مسيره...\n",
      "Résumé: اكد مصدر في \"الحراك التهامي\" لابناء محافظه الحديده لبي بي سي مقتل مسلح حوثي واصابه سته اخرين بالاضافه لجرح خمسه من مسلحي الحراك في اشتباكات اندلعت مساء امس الخميس بين الطرفين قرب ساحه اعتصام تابعه للحراك التهامي وامتدت الى عده شوارع في مدينه الحديده الواقعه على البحر الاحمر غربي اليمن والتي اجتاحها الحوثيون الاسبوع الماضي.\n",
      "\n",
      "--- Exemple 3 ---\n",
      "Paragraphe: وكانت اذاعه الجيش الاسرائيلي افادت بمقتل ثلاثه اسرائيليين واصابه خمسه اخرين صباح اليوم نتيجه سقوط صواريخ فلسطينيه. كما ارتفع عدد القتلى الفلسطينيين الى ثلاثه عشر شخصا واصيب نحو مائه واربعين اخرين في ا...\n",
      "Résumé: افادت مصادر حركه حماس ان كتائب القسام، الجناح العسكري لحماس، اطلقت صاروخا من طراز فجر خمسه على مدينه تل ابيب.\n",
      "✅ Classe Dataset définie!\n",
      "✅ Modèle MT5Summarizer défini!\n"
     ]
    },
    {
     "data": {
      "application/vnd.jupyter.widget-view+json": {
       "model_id": "7968040951814119b6abea1b072d900c",
       "version_major": 2,
       "version_minor": 0
      },
      "text/plain": [
       "tokenizer_config.json:   0%|          | 0.00/82.0 [00:00<?, ?B/s]"
      ]
     },
     "metadata": {},
     "output_type": "display_data"
    },
    {
     "data": {
      "application/vnd.jupyter.widget-view+json": {
       "model_id": "915c77b8777d4e44aa5adff1371a683c",
       "version_major": 2,
       "version_minor": 0
      },
      "text/plain": [
       "spiece.model:   0%|          | 0.00/4.31M [00:00<?, ?B/s]"
      ]
     },
     "metadata": {},
     "output_type": "display_data"
    },
    {
     "data": {
      "application/vnd.jupyter.widget-view+json": {
       "model_id": "cfd5157b82b445dcbf0c4522a17bf4f4",
       "version_major": 2,
       "version_minor": 0
      },
      "text/plain": [
       "special_tokens_map.json:   0%|          | 0.00/99.0 [00:00<?, ?B/s]"
      ]
     },
     "metadata": {},
     "output_type": "display_data"
    },
    {
     "data": {
      "application/vnd.jupyter.widget-view+json": {
       "model_id": "1d497d63063d4340bf90eec23e4e332d",
       "version_major": 2,
       "version_minor": 0
      },
      "text/plain": [
       "config.json:   0%|          | 0.00/553 [00:00<?, ?B/s]"
      ]
     },
     "metadata": {},
     "output_type": "display_data"
    },
    {
     "name": "stderr",
     "output_type": "stream",
     "text": [
      "The tokenizer class you load from this checkpoint is not the same type as the class this function is called from. It may result in unexpected tokenization. \n",
      "The tokenizer class you load from this checkpoint is 'T5Tokenizer'. \n",
      "The class this function is called from is 'MT5Tokenizer'.\n",
      "You are using the default legacy behaviour of the <class 'transformers.models.mt5.tokenization_mt5.MT5Tokenizer'>. This is expected, and simply means that the `legacy` (previous) behavior will be used so nothing changes for you. If you want to use the new behaviour, set `legacy=False`. This should only be set if you understand what it means, and thoroughly read the reason why this was added as explained in https://github.com/huggingface/transformers/pull/24565\n"
     ]
    },
    {
     "name": "stdout",
     "output_type": "stream",
     "text": [
      "✅ Tokenizer chargé. Vocab size: 250100\n",
      "📊 Split des données:\n",
      "   Train: 21465 exemples\n",
      "   Validation: 3788 exemples\n",
      "✅ DataLoaders créés avec batch_size=8\n",
      "   Train batches: 2684\n",
      "   Val batches: 474\n",
      "\n",
      "🔍 Test d'un batch:\n",
      "   input_ids shape: torch.Size([8, 512])\n",
      "   attention_mask shape: torch.Size([8, 512])\n",
      "   labels shape: torch.Size([8, 128])\n"
     ]
    }
   ],
   "source": [
    "# ====================================================================================\n",
    "# CELLULE 6: Visualisation des données\n",
    "# ====================================================================================\n",
    "\n",
    "# Créer des visualisations\n",
    "fig, axes = plt.subplots(2, 2, figsize=(15, 10))\n",
    "\n",
    "# Distribution des longueurs des paragraphes\n",
    "axes[0,0].hist(xl_sum['paragraph_len'], bins=50, alpha=0.7, color='blue')\n",
    "axes[0,0].set_title('Distribution des longueurs des paragraphes')\n",
    "axes[0,0].set_xlabel('Longueur (caractères)')\n",
    "axes[0,0].set_ylabel('Fréquence')\n",
    "\n",
    "# Distribution des longueurs des résumés\n",
    "axes[0,1].hist(xl_sum['summary_len'], bins=50, alpha=0.7, color='green')\n",
    "axes[0,1].set_title('Distribution des longueurs des résumés')\n",
    "axes[0,1].set_xlabel('Longueur (caractères)')\n",
    "axes[0,1].set_ylabel('Fréquence')\n",
    "\n",
    "# Scatter plot\n",
    "axes[1,0].scatter(xl_sum['paragraph_len'], xl_sum['summary_len'], alpha=0.5)\n",
    "axes[1,0].set_title('Relation longueur paragraphe vs résumé')\n",
    "axes[1,0].set_xlabel('Longueur paragraphe')\n",
    "axes[1,0].set_ylabel('Longueur résumé')\n",
    "\n",
    "# Box plot\n",
    "data_lengths = [xl_sum['paragraph_len'], xl_sum['summary_len']]\n",
    "axes[1,1].boxplot(data_lengths, labels=['Paragraphe', 'Résumé'])\n",
    "axes[1,1].set_title('Distribution des longueurs')\n",
    "axes[1,1].set_ylabel('Longueur (caractères)')\n",
    "\n",
    "plt.tight_layout()\n",
    "plt.show()\n",
    "\n",
    "# Afficher quelques exemples\n",
    "print(\"\\n📄 Exemples de données:\")\n",
    "for i in range(3):\n",
    "    print(f\"\\n--- Exemple {i+1} ---\")\n",
    "    print(f\"Paragraphe: {xl_sum['paragraph'].iloc[i][:200]}...\")\n",
    "    print(f\"Résumé: {xl_sum['summary'].iloc[i]}\")\n",
    "\n",
    "# ====================================================================================\n",
    "# CELLULE 7: Classe Dataset\n",
    "# ====================================================================================\n",
    "\n",
    "class ArabicSummaryDataset(Dataset):\n",
    "    def __init__(self, dataframe, tokenizer, source_max_len=512, target_max_len=128):\n",
    "        self.tokenizer = tokenizer\n",
    "        self.data = dataframe.reset_index(drop=True)  # ✅ Important !\n",
    "        self.source_max_len = source_max_len\n",
    "        self.target_max_len = target_max_len\n",
    "\n",
    "    def __len__(self):\n",
    "        return len(self.data)\n",
    "\n",
    "    def __getitem__(self, index):\n",
    "        paragraph = str(self.data.iloc[index]['paragraph'])\n",
    "        summary = str(self.data.iloc[index]['summary'])\n",
    "\n",
    "        # Encodage source\n",
    "        source = self.tokenizer(\n",
    "            paragraph,\n",
    "            max_length=self.source_max_len,\n",
    "            padding='max_length',\n",
    "            truncation=True,\n",
    "            return_tensors='pt'\n",
    "        )\n",
    "\n",
    "        # Encodage target  \n",
    "        target = self.tokenizer(\n",
    "            summary,\n",
    "            max_length=self.target_max_len,\n",
    "            padding='max_length',\n",
    "            truncation=True,\n",
    "            return_tensors='pt'\n",
    "        )\n",
    "\n",
    "        # ✅ CORRECTION: Remplacer les tokens de padding par -100 (ignorés dans la loss)\n",
    "        labels = target['input_ids'].clone()\n",
    "        labels[labels == self.tokenizer.pad_token_id] = -100\n",
    "\n",
    "        return {\n",
    "            'input_ids': source['input_ids'].squeeze(),\n",
    "            'attention_mask': source['attention_mask'].squeeze(),\n",
    "            'labels': labels.squeeze()\n",
    "        }\n",
    "\n",
    "print(\"✅ Classe Dataset définie!\")\n",
    "\n",
    "# ====================================================================================\n",
    "# CELLULE 8: Modèle Lightning\n",
    "# ====================================================================================\n",
    "\n",
    "class MT5Summarizer(pl.LightningModule):\n",
    "    def __init__(self, model_name=\"google/mt5-small\", lr=3e-5, warmup_steps=1000):\n",
    "        super().__init__()\n",
    "        self.model = MT5ForConditionalGeneration.from_pretrained(model_name)\n",
    "        self.tokenizer = MT5Tokenizer.from_pretrained(model_name)\n",
    "        self.lr = lr\n",
    "        self.warmup_steps = warmup_steps\n",
    "        # ✅ CORRECTION: use_stemmer=False pour l'arabe\n",
    "        self.rouge = rouge_scorer.RougeScorer(['rouge1', 'rouge2', 'rougeL'], use_stemmer=False)\n",
    "        \n",
    "        # Sauvegarder les hyperparamètres\n",
    "        self.save_hyperparameters()\n",
    "        \n",
    "        # Métriques pour le suivi\n",
    "        self.validation_step_outputs = []\n",
    "\n",
    "    def forward(self, input_ids, attention_mask, labels=None):\n",
    "        return self.model(input_ids=input_ids, attention_mask=attention_mask, labels=labels)\n",
    "\n",
    "    def training_step(self, batch, batch_idx):\n",
    "        output = self.forward(batch['input_ids'], batch['attention_mask'], batch['labels'])\n",
    "        loss = output.loss\n",
    "        self.log('train_loss', loss, prog_bar=True, on_step=True, on_epoch=True)\n",
    "        return loss\n",
    "\n",
    "    def validation_step(self, batch, batch_idx):\n",
    "        output = self.forward(batch['input_ids'], batch['attention_mask'], batch['labels'])\n",
    "        loss = output.loss\n",
    "\n",
    "        # Génération pour évaluation ROUGE\n",
    "        with torch.no_grad():\n",
    "            preds = self.model.generate(\n",
    "                batch['input_ids'], \n",
    "                attention_mask=batch['attention_mask'], \n",
    "                max_length=128,\n",
    "                num_beams=4,\n",
    "                early_stopping=True,\n",
    "                no_repeat_ngram_size=2\n",
    "            )\n",
    "        \n",
    "        pred_str = self.tokenizer.batch_decode(preds, skip_special_tokens=True)\n",
    "        \n",
    "        # ✅ CORRECTION: Décoder les labels correctement\n",
    "        labels = batch['labels'].clone()\n",
    "        labels[labels == -100] = self.tokenizer.pad_token_id\n",
    "        label_str = self.tokenizer.batch_decode(labels, skip_special_tokens=True)\n",
    "\n",
    "        # Calculer ROUGE\n",
    "        rouge1_total, rouge2_total, rougel_total = 0, 0, 0\n",
    "        valid_samples = 0\n",
    "        \n",
    "        for pred, label in zip(pred_str, label_str):\n",
    "            if pred.strip() and label.strip():  # Éviter les chaînes vides\n",
    "                # ✅ CORRECTION: Ordre correct pred, label\n",
    "                scores = self.rouge.score(pred, label)\n",
    "                rouge1_total += scores[\"rouge1\"].fmeasure\n",
    "                rouge2_total += scores[\"rouge2\"].fmeasure\n",
    "                rougel_total += scores[\"rougeL\"].fmeasure\n",
    "                valid_samples += 1\n",
    "\n",
    "        if valid_samples > 0:\n",
    "            self.log('val_loss', loss, prog_bar=True)\n",
    "            self.log('rouge1', rouge1_total / valid_samples, prog_bar=True)\n",
    "            self.log('rouge2', rouge2_total / valid_samples, prog_bar=True)\n",
    "            self.log('rougeL', rougel_total / valid_samples, prog_bar=True)\n",
    "            \n",
    "            # Stocker pour affichage\n",
    "            self.validation_step_outputs.append({\n",
    "                'val_loss': loss,\n",
    "                'rouge1': rouge1_total / valid_samples,\n",
    "                'rouge2': rouge2_total / valid_samples,\n",
    "                'rougeL': rougel_total / valid_samples\n",
    "            })\n",
    "\n",
    "        return loss\n",
    "    \n",
    "    def on_validation_epoch_end(self):\n",
    "        if self.validation_step_outputs:\n",
    "            avg_loss = torch.stack([x['val_loss'] for x in self.validation_step_outputs]).mean()\n",
    "            avg_rouge1 = np.mean([x['rouge1'] for x in self.validation_step_outputs])\n",
    "            avg_rouge2 = np.mean([x['rouge2'] for x in self.validation_step_outputs])\n",
    "            avg_rougeL = np.mean([x['rougeL'] for x in self.validation_step_outputs])\n",
    "            \n",
    "            print(f\"\\n📊 Époque {self.current_epoch}:\")\n",
    "            print(f\"   Val Loss: {avg_loss:.4f}\")\n",
    "            print(f\"   ROUGE-1: {avg_rouge1:.4f}\")\n",
    "            print(f\"   ROUGE-2: {avg_rouge2:.4f}\")\n",
    "            print(f\"   ROUGE-L: {avg_rougeL:.4f}\")\n",
    "            \n",
    "        self.validation_step_outputs.clear()\n",
    "\n",
    "    def configure_optimizers(self):\n",
    "        optimizer = torch.optim.AdamW(self.parameters(), lr=self.lr, weight_decay=0.01)\n",
    "        \n",
    "        # Learning rate scheduler avec warmup\n",
    "        def lr_lambda(current_step):\n",
    "            if current_step < self.warmup_steps:\n",
    "                return float(current_step) / float(max(1, self.warmup_steps))\n",
    "            return max(0.0, float(self.trainer.max_steps - current_step) / float(max(1, self.trainer.max_steps - self.warmup_steps)))\n",
    "        \n",
    "        scheduler = torch.optim.lr_scheduler.LambdaLR(optimizer, lr_lambda)\n",
    "        \n",
    "        return {\n",
    "            \"optimizer\": optimizer,\n",
    "            \"lr_scheduler\": {\n",
    "                \"scheduler\": scheduler,\n",
    "                \"interval\": \"step\",\n",
    "                \"frequency\": 1,\n",
    "            },\n",
    "        }\n",
    "\n",
    "print(\"✅ Modèle MT5Summarizer défini!\")\n",
    "\n",
    "# ====================================================================================\n",
    "# CELLULE 9: Préparation des DataLoaders\n",
    "# ====================================================================================\n",
    "\n",
    "# Charger le tokenizer\n",
    "tokenizer = MT5Tokenizer.from_pretrained(\"google/mt5-small\")\n",
    "print(f\"✅ Tokenizer chargé. Vocab size: {tokenizer.vocab_size}\")\n",
    "\n",
    "# Split train/validation\n",
    "train_df, val_df = train_test_split(xl_sum, test_size=0.15, random_state=42)\n",
    "train_df = train_df.reset_index(drop=True)\n",
    "val_df = val_df.reset_index(drop=True)\n",
    "\n",
    "print(f\"📊 Split des données:\")\n",
    "print(f\"   Train: {len(train_df)} exemples\")\n",
    "print(f\"   Validation: {len(val_df)} exemples\")\n",
    "\n",
    "# Créer les datasets\n",
    "train_dataset = ArabicSummaryDataset(train_df, tokenizer)\n",
    "val_dataset = ArabicSummaryDataset(val_df, tokenizer)\n",
    "\n",
    "# DataLoaders avec batch size optimisé\n",
    "batch_size = 8 if torch.cuda.is_available() else 4\n",
    "train_loader = DataLoader(train_dataset, batch_size=batch_size, shuffle=True, num_workers=2)\n",
    "val_loader = DataLoader(val_dataset, batch_size=batch_size, num_workers=2)\n",
    "\n",
    "print(f\"✅ DataLoaders créés avec batch_size={batch_size}\")\n",
    "print(f\"   Train batches: {len(train_loader)}\")\n",
    "print(f\"   Val batches: {len(val_loader)}\")\n",
    "\n",
    "# Tester un batch\n",
    "sample_batch = next(iter(train_loader))\n",
    "print(f\"\\n🔍 Test d'un batch:\")\n",
    "print(f\"   input_ids shape: {sample_batch['input_ids'].shape}\")\n",
    "print(f\"   attention_mask shape: {sample_batch['attention_mask'].shape}\")\n",
    "print(f\"   labels shape: {sample_batch['labels'].shape}\")\n",
    "\n",
    "# ====================================================================================\n",
    "# CELLULE 10: Configuration de l'entraînement\n",
    "# ====================================================================================\n",
    "\n",
    "# Callbacks\n",
    "checkpoint_callback = ModelCheckpoint(\n",
    "    monitor='rouge1',\n",
    "    dirpath='./checkpoints',\n",
    "    filename='mt5-best-{epoch:02d}-{rouge1:.4f}',\n",
    "    save_top_k=2,\n",
    "    mode='max',  # ✅ Maximiser ROUGE-1\n",
    "    save_weights_only=False,\n",
    "    verbose=True\n",
    ")\n",
    "\n",
    "early_stop_callback = EarlyStopping(\n",
    "    monitor='rouge1',\n",
    "    patience=5,\n",
    "    verbose=True,\n",
    "    mode='max'\n",
    ")\n"
   ]
  },
  {
   "cell_type": "code",
   "execution_count": 5,
   "id": "8b71a3bf",
   "metadata": {
    "execution": {
     "iopub.execute_input": "2025-06-22T10:49:04.228209Z",
     "iopub.status.busy": "2025-06-22T10:49:04.227941Z",
     "iopub.status.idle": "2025-06-22T10:49:04.273522Z",
     "shell.execute_reply": "2025-06-22T10:49:04.272605Z"
    },
    "papermill": {
     "duration": 0.078075,
     "end_time": "2025-06-22T10:49:04.274689",
     "exception": false,
     "start_time": "2025-06-22T10:49:04.196614",
     "status": "completed"
    },
    "tags": []
   },
   "outputs": [
    {
     "name": "stdout",
     "output_type": "stream",
     "text": [
      "✅ Trainer configuré!\n",
      "   Device: GPU\n",
      "   Max epochs: 10\n",
      "   Gradient accumulation: 2\n"
     ]
    },
    {
     "name": "stderr",
     "output_type": "stream",
     "text": [
      "/usr/local/lib/python3.11/dist-packages/lightning_fabric/connector.py:571: `precision=16` is supported for historical reasons but its usage is discouraged. Please set your precision to 16-mixed instead!\n"
     ]
    }
   ],
   "source": [
    "# Trainer avec configuration optimisée\n",
    "trainer = pl.Trainer(\n",
    "    max_epochs=10,  # ✅ Plus d'époques\n",
    "    accelerator='gpu' if torch.cuda.is_available() else 'cpu',\n",
    "    devices=1,\n",
    "    callbacks=[checkpoint_callback, early_stop_callback],\n",
    "    gradient_clip_val=1.0,\n",
    "    accumulate_grad_batches=2,  # ✅ Gradient accumulation\n",
    "    precision=16,  # ✅ Mixed precision pour économiser la mémoire\n",
    "    log_every_n_steps=50,\n",
    "    val_check_interval=0.5,  # Valider 2 fois par époque\n",
    "    enable_progress_bar=True\n",
    ")\n",
    "\n",
    "print(\"✅ Trainer configuré!\")\n",
    "print(f\"   Device: {'GPU' if torch.cuda.is_available() else 'CPU'}\")\n",
    "print(f\"   Max epochs: {trainer.max_epochs}\")\n",
    "print(f\"   Gradient accumulation: {trainer.accumulate_grad_batches}\")"
   ]
  },
  {
   "cell_type": "code",
   "execution_count": 6,
   "id": "85934a49",
   "metadata": {
    "execution": {
     "iopub.execute_input": "2025-06-22T10:49:04.380572Z",
     "iopub.status.busy": "2025-06-22T10:49:04.380295Z",
     "iopub.status.idle": "2025-06-22T10:49:04.391134Z",
     "shell.execute_reply": "2025-06-22T10:49:04.390601Z"
    },
    "papermill": {
     "duration": 0.043152,
     "end_time": "2025-06-22T10:49:04.392143",
     "exception": false,
     "start_time": "2025-06-22T10:49:04.348991",
     "status": "completed"
    },
    "tags": []
   },
   "outputs": [],
   "source": [
    "import pandas as pd \n",
    "import numpy as np\n",
    "import re\n",
    "import nltk\n",
    "import seaborn as sns\n",
    "import matplotlib.pyplot as plt\n",
    "from pylab import rcParams\n",
    "from matplotlib import rc\n",
    "import joblib\n",
    "import json\n",
    "from transformers import AutoTokenizer, AutoModelForSeq2SeqLM\n",
    "\n",
    "import torch\n",
    "from torch import nn,optim\n",
    "from torch.utils.data import Dataset, DataLoader\n",
    "from torchmetrics.classification import F1Score\n",
    "import pytorch_lightning as pl\n",
    "from pytorch_lightning.callbacks.early_stopping import EarlyStopping\n",
    "from pytorch_lightning.loggers import TensorBoardLogger\n",
    "\n",
    "from sklearn.model_selection import train_test_split\n",
    "\n",
    "from tqdm.auto import tqdm\n"
   ]
  },
  {
   "cell_type": "code",
   "execution_count": 7,
   "id": "9311cf88",
   "metadata": {
    "execution": {
     "iopub.execute_input": "2025-06-22T10:49:04.454738Z",
     "iopub.status.busy": "2025-06-22T10:49:04.454517Z",
     "iopub.status.idle": "2025-06-22T10:49:08.103776Z",
     "shell.execute_reply": "2025-06-22T10:49:08.103003Z"
    },
    "papermill": {
     "duration": 3.681538,
     "end_time": "2025-06-22T10:49:08.104930",
     "exception": false,
     "start_time": "2025-06-22T10:49:04.423392",
     "status": "completed"
    },
    "tags": []
   },
   "outputs": [
    {
     "data": {
      "text/html": [
       "<div>\n",
       "<style scoped>\n",
       "    .dataframe tbody tr th:only-of-type {\n",
       "        vertical-align: middle;\n",
       "    }\n",
       "\n",
       "    .dataframe tbody tr th {\n",
       "        vertical-align: top;\n",
       "    }\n",
       "\n",
       "    .dataframe thead th {\n",
       "        text-align: right;\n",
       "    }\n",
       "</style>\n",
       "<table border=\"1\" class=\"dataframe\">\n",
       "  <thead>\n",
       "    <tr style=\"text-align: right;\">\n",
       "      <th></th>\n",
       "      <th>paragraph</th>\n",
       "      <th>summary</th>\n",
       "    </tr>\n",
       "  </thead>\n",
       "  <tbody>\n",
       "    <tr>\n",
       "      <th>0</th>\n",
       "      <td>وكان الرئيس الأوكراني المؤقت، الكسندر تورتشينو...</td>\n",
       "      <td>بدأت القوات الأوكرانية الانسحاب من شبه جزيرة ا...</td>\n",
       "    </tr>\n",
       "    <tr>\n",
       "      <th>1</th>\n",
       "      <td>بحلول عام 2050 ستحتاج مصر إلى 21 مليار متر مكع...</td>\n",
       "      <td>\"هل سيتم تغيير العبارة الشهيرة للمؤرخ اليوناني...</td>\n",
       "    </tr>\n",
       "    <tr>\n",
       "      <th>2</th>\n",
       "      <td>وذكرت وكالة الأنباء المحلية (جي.إن.إس) أن جماع...</td>\n",
       "      <td>قالت الشرطة في القطاع الهندي من إقليم كشمير إن...</td>\n",
       "    </tr>\n",
       "    <tr>\n",
       "      <th>3</th>\n",
       "      <td>ووقع اختياره على واد عمقه 800 متر محاط بثماني ...</td>\n",
       "      <td>في عام 816، تجول راهب يدعى كوكاي، في المنحدرات...</td>\n",
       "    </tr>\n",
       "    <tr>\n",
       "      <th>4</th>\n",
       "      <td>مسلح حوثي في إب وقال المصدر إن المسلحين الحوثي...</td>\n",
       "      <td>أكد مصدر في \"الحراك التهامي\" لأبناء محافظة الح...</td>\n",
       "    </tr>\n",
       "  </tbody>\n",
       "</table>\n",
       "</div>"
      ],
      "text/plain": [
       "                                           paragraph  \\\n",
       "0  وكان الرئيس الأوكراني المؤقت، الكسندر تورتشينو...   \n",
       "1  بحلول عام 2050 ستحتاج مصر إلى 21 مليار متر مكع...   \n",
       "2  وذكرت وكالة الأنباء المحلية (جي.إن.إس) أن جماع...   \n",
       "3  ووقع اختياره على واد عمقه 800 متر محاط بثماني ...   \n",
       "4  مسلح حوثي في إب وقال المصدر إن المسلحين الحوثي...   \n",
       "\n",
       "                                             summary  \n",
       "0  بدأت القوات الأوكرانية الانسحاب من شبه جزيرة ا...  \n",
       "1  \"هل سيتم تغيير العبارة الشهيرة للمؤرخ اليوناني...  \n",
       "2  قالت الشرطة في القطاع الهندي من إقليم كشمير إن...  \n",
       "3  في عام 816، تجول راهب يدعى كوكاي، في المنحدرات...  \n",
       "4  أكد مصدر في \"الحراك التهامي\" لأبناء محافظة الح...  "
      ]
     },
     "execution_count": 7,
     "metadata": {},
     "output_type": "execute_result"
    }
   ],
   "source": [
    "data = []\n",
    "xl_sum = pd.DataFrame(data, columns=['text', 'summary'])\n",
    "second = pd.read_csv('/kaggle/input/arabic-summarization-bbc-news/bbc_news_arabic_summarization.csv')\n",
    "second = second.drop(['id','url','title'],axis=1)\n",
    "\n",
    "\n",
    "xl_sum = pd.concat([xl_sum,second])\n",
    "new_column_names = {\n",
    "    'text': 'paragraph',\n",
    "    'summary': 'summary',\n",
    "}\n",
    "\n",
    "# Rename the columns using the dictionary\n",
    "xl_sum = xl_sum.rename(columns=new_column_names)\n",
    "xl_sum.head(5)"
   ]
  },
  {
   "cell_type": "code",
   "execution_count": 8,
   "id": "5a9fde90",
   "metadata": {
    "execution": {
     "iopub.execute_input": "2025-06-22T10:49:08.171541Z",
     "iopub.status.busy": "2025-06-22T10:49:08.171254Z",
     "iopub.status.idle": "2025-06-22T10:49:09.227150Z",
     "shell.execute_reply": "2025-06-22T10:49:09.226420Z"
    },
    "papermill": {
     "duration": 1.090661,
     "end_time": "2025-06-22T10:49:09.228453",
     "exception": false,
     "start_time": "2025-06-22T10:49:08.137792",
     "status": "completed"
    },
    "tags": []
   },
   "outputs": [
    {
     "name": "stderr",
     "output_type": "stream",
     "text": [
      "/usr/local/lib/python3.11/dist-packages/seaborn/_oldcore.py:1119: FutureWarning: use_inf_as_na option is deprecated and will be removed in a future version. Convert inf values to NaN before operating instead.\n",
      "  with pd.option_context('mode.use_inf_as_na', True):\n",
      "/usr/local/lib/python3.11/dist-packages/seaborn/_oldcore.py:1119: FutureWarning: use_inf_as_na option is deprecated and will be removed in a future version. Convert inf values to NaN before operating instead.\n",
      "  with pd.option_context('mode.use_inf_as_na', True):\n"
     ]
    },
    {
     "data": {
      "image/png": "[encoded data removed]",
      "text/plain": [
       "<Figure size 1200x500 with 2 Axes>"
      ]
     },
     "metadata": {},
     "output_type": "display_data"
    }
   ],
   "source": [
    "import matplotlib.pyplot as plt\n",
    "import seaborn as sns\n",
    "\n",
    "# Ajout des longueurs\n",
    "xl_sum['text_length'] = xl_sum['paragraph'].astype(str).apply(len)\n",
    "xl_sum['summary_length'] = xl_sum['summary'].astype(str).apply(len)\n",
    "\n",
    "# Histogramme\n",
    "plt.figure(figsize=(12,5))\n",
    "\n",
    "plt.subplot(1,2,1)\n",
    "sns.histplot(xl_sum['text_length'], bins=50, kde=True, color='skyblue')\n",
    "plt.title('Distribution de la longueur des textes')\n",
    "plt.xlabel('Nombre de caractères')\n",
    "\n",
    "plt.subplot(1,2,2)\n",
    "sns.histplot(xl_sum['summary_length'], bins=50, kde=True, color='salmon')\n",
    "plt.title('Distribution de la longueur des résumés')\n",
    "plt.xlabel('Nombre de caractères')\n",
    "\n",
    "plt.tight_layout()\n",
    "plt.show()\n"
   ]
  },
  {
   "cell_type": "code",
   "execution_count": 9,
   "id": "804250da",
   "metadata": {
    "execution": {
     "iopub.execute_input": "2025-06-22T10:49:09.294979Z",
     "iopub.status.busy": "2025-06-22T10:49:09.294731Z",
     "iopub.status.idle": "2025-06-22T10:49:12.621985Z",
     "shell.execute_reply": "2025-06-22T10:49:12.620992Z"
    },
    "papermill": {
     "duration": 3.361118,
     "end_time": "2025-06-22T10:49:12.623416",
     "exception": false,
     "start_time": "2025-06-22T10:49:09.262298",
     "status": "completed"
    },
    "tags": []
   },
   "outputs": [
    {
     "name": "stdout",
     "output_type": "stream",
     "text": [
      "Collecting arabic-reshaper\r\n",
      "  Downloading arabic_reshaper-3.0.0-py3-none-any.whl.metadata (12 kB)\r\n",
      "Requirement already satisfied: python-bidi in /usr/local/lib/python3.11/dist-packages (0.6.6)\r\n",
      "Downloading arabic_reshaper-3.0.0-py3-none-any.whl (20 kB)\r\n",
      "Installing collected packages: arabic-reshaper\r\n",
      "Successfully installed arabic-reshaper-3.0.0\r\n"
     ]
    }
   ],
   "source": [
    "!pip install arabic-reshaper python-bidi\n"
   ]
  },
  {
   "cell_type": "code",
   "execution_count": 10,
   "id": "76b9b443",
   "metadata": {
    "execution": {
     "iopub.execute_input": "2025-06-22T10:49:12.689553Z",
     "iopub.status.busy": "2025-06-22T10:49:12.689272Z"
    },
    "papermill": {
     "duration": 2311.065468,
     "end_time": "2025-06-22T11:27:43.722371",
     "exception": false,
     "start_time": "2025-06-22T10:49:12.656903",
     "status": "completed"
    },
    "tags": []
   },
   "outputs": [],
   "source": [
    "from wordcloud import WordCloud\n",
    "import arabic_reshaper\n",
    "from bidi.algorithm import get_display\n",
    "\n",
    "# Joindre tout le texte\n",
    "all_text = ' '.join(xl_sum['paragraph'].astype(str))\n",
    "reshaped_text = arabic_reshaper.reshape(all_text)\n",
    "bidi_text = get_display(reshaped_text)\n",
    "\n",
    "# Générer le nuage\n",
    "wordcloud = WordCloud(font_path='/usr/share/fonts/truetype/dejavu/DejaVuSans.ttf',\n",
    "                      background_color='white',\n",
    "                      width=800, height=400).generate(bidi_text)\n",
    "\n",
    "plt.figure(figsize=(15,7))\n",
    "plt.imshow(wordcloud, interpolation='bilinear')\n",
    "plt.axis('off')\n",
    "plt.title('Nuage de mots du texte (paragraphes)', fontsize=16)\n",
    "plt.show()\n"
   ]
  },
  {
   "cell_type": "code",
   "execution_count": null,
   "id": "7fada251",
   "metadata": {
    "execution": {
     "iopub.execute_input": "2025-06-21T23:41:12.739387Z",
     "iopub.status.busy": "2025-06-21T23:41:12.738762Z",
     "iopub.status.idle": "2025-06-21T23:41:12.943869Z",
     "shell.execute_reply": "2025-06-21T23:41:12.943139Z",
     "shell.execute_reply.started": "2025-06-21T23:41:12.739347Z"
    },
    "papermill": {
     "duration": null,
     "end_time": null,
     "exception": null,
     "start_time": null,
     "status": "completed"
    },
    "tags": []
   },
   "outputs": [],
   "source": [
    "column_name = 'paragraph'  \n",
    "xl_sum = xl_sum.drop_duplicates(subset=column_name)\n",
    "column_name = 'summary'  \n",
    "xl_sum = xl_sum.drop_duplicates(subset=column_name)\n",
    "xl_sum.describe()"
   ]
  },
  {
   "cell_type": "code",
   "execution_count": null,
   "id": "b3f7d558",
   "metadata": {
    "execution": {
     "iopub.execute_input": "2025-06-21T23:41:22.902638Z",
     "iopub.status.busy": "2025-06-21T23:41:22.901842Z",
     "iopub.status.idle": "2025-06-21T23:41:22.913959Z",
     "shell.execute_reply": "2025-06-21T23:41:22.913125Z",
     "shell.execute_reply.started": "2025-06-21T23:41:22.902611Z"
    },
    "papermill": {
     "duration": null,
     "end_time": null,
     "exception": null,
     "start_time": null,
     "status": "completed"
    },
    "tags": []
   },
   "outputs": [],
   "source": [
    "counter = 0\n",
    "def delete_links(input_text):\n",
    "    pettern  = r'''(?i)\\b((?:https?://|www\\d{0,3}[.]|[a-z0-9.\\-]+[.][a-z]{2,4}/)(?:[^\\s()<>]+|\\(([^\\s()<>]+|(\\([^\\s()<>]+\\)))*\\))+(?:\\(([^\\s()<>]+|(\\([^\\s()<>]+\\)))*\\)|[^\\s`!()\\[\\]{};:'\".,<>?«»“”‘’]))'''\n",
    "    out_text = re.sub(pettern, ' ', input_text)\n",
    "    return out_text\n",
    "\n",
    "def delete_repeated_characters(input_text):\n",
    "    pattern  = r'(.)\\1{2,}'\n",
    "    out_text = re.sub(pattern, r\"\\1\\1\", input_text)\n",
    "    return out_text\n",
    "\n",
    "def remove_extra_spaces(input_text):\n",
    "    replace = ' +'\n",
    "    out_text = re.sub(replace, \" \", input_text)\n",
    "    words = nltk.word_tokenize(out_text)\n",
    "    words = [word for word in words if word.isalpha()]\n",
    "    out_text = ' '.join(words)\n",
    "    return out_text\n",
    "\n",
    "def replace_letters(input_text):\n",
    "    replace = {\"أ\": \"ا\",\"ة\": \"ه\",\"إ\": \"ا\",\"آ\": \"ا\",\"\": \"\"}\n",
    "    replace = dict((re.escape(k), v) for k, v in replace.items()) \n",
    "    pattern = re.compile(\"|\".join(replace.keys()))\n",
    "    out_text = pattern.sub(lambda m: replace[re.escape(m.group(0))], input_text)\n",
    "    return out_text\n",
    "\n",
    "def clean_text(input_text):\n",
    "    replace = r'[^\\u0621-\\u064A\\u0660-\\u0669\\u06F0-\\u06F90-9]'\n",
    "    out_text = re.sub(replace, \" \", input_text)\n",
    "    #words = nltk.word_tokenize(out_text)\n",
    "    #words = [word for word in words if word.isalpha()]\n",
    "    #out_text = ' '.join(words)\n",
    "    return out_text\n",
    "\n",
    "def remove_vowelization(input_text):\n",
    "    vowelization = re.compile(\"\"\" ّ|َ|ً|ُ|ٌ|ِ|ٍ|ْ|ـ\"\"\", re.VERBOSE)\n",
    "    out_text = re.sub(vowelization, '', input_text)\n",
    "    return out_text\n",
    "\n",
    "def delete_stopwords(input_text):\n",
    "    stop_words = set(nltk.corpus.stopwords.words(\"arabic\") + nltk.corpus.stopwords.words(\"english\"))\n",
    "    tokenizer = nltk.tokenize.WhitespaceTokenizer()\n",
    "    tokens = tokenizer.tokenize(input_text)\n",
    "    wnl = nltk.WordNetLemmatizer()\n",
    "    lemmatizedTokens =[wnl.lemmatize(t) for t in tokens]\n",
    "    out_text = [w for w in lemmatizedTokens if not w in stop_words]\n",
    "    out_text = ' '.join(out_text)\n",
    "    return out_text\n",
    "\n",
    "def stem_text(input_text):\n",
    "    st = ISRIStemmer()\n",
    "    tokenizer = nltk.tokenize.WhitespaceTokenizer()\n",
    "    tokens = tokenizer.tokenize(input_text)\n",
    "    out_text = [st.stem(w) for w in tokens]\n",
    "    out_text = ' '.join(out_text)\n",
    "    return out_text\n",
    "\n",
    "\n",
    "def text_prepare(input_text, ar_text):\n",
    "    global counter\n",
    "    counter +=1\n",
    "\n",
    "    #out_text = delete_links(input_text)\n",
    "    #out_text = delete_repeated_characters(out_text)\n",
    "    #out_text = delete_stopwords(input_text)\n",
    "    out_text = clean_text(input_text)\n",
    "    #out_text = remove_extra_spaces(out_text)\n",
    "    if(counter%100==0):\n",
    "        print(counter,'\\n',out_text)\n",
    "    return out_text"
   ]
  },
  {
   "cell_type": "code",
   "execution_count": null,
   "id": "b9a2a136",
   "metadata": {
    "collapsed": true,
    "execution": {
     "iopub.execute_input": "2025-06-21T23:41:29.017478Z",
     "iopub.status.busy": "2025-06-21T23:41:29.017077Z",
     "iopub.status.idle": "2025-06-21T23:41:35.676683Z",
     "shell.execute_reply": "2025-06-21T23:41:35.675887Z",
     "shell.execute_reply.started": "2025-06-21T23:41:29.017454Z"
    },
    "jupyter": {
     "outputs_hidden": true
    },
    "papermill": {
     "duration": null,
     "end_time": null,
     "exception": null,
     "start_time": null,
     "status": "completed"
    },
    "tags": []
   },
   "outputs": [],
   "source": [
    "xl_sum['paragraph'] = xl_sum['paragraph'].apply(text_prepare, args=(True,))\n",
    "xl_sum['summary'] = xl_sum['summary'].apply(text_prepare, args=(True,))"
   ]
  },
  {
   "cell_type": "markdown",
   "id": "e2320376",
   "metadata": {
    "papermill": {
     "duration": null,
     "end_time": null,
     "exception": null,
     "start_time": null,
     "status": "completed"
    },
    "tags": []
   },
   "source": [
    "TESTER MT5 XLSUM"
   ]
  },
  {
   "cell_type": "code",
   "execution_count": null,
   "id": "f8b790d6",
   "metadata": {
    "collapsed": true,
    "execution": {
     "iopub.execute_input": "2025-06-21T23:42:11.606171Z",
     "iopub.status.busy": "2025-06-21T23:42:11.605552Z",
     "iopub.status.idle": "2025-06-21T23:42:15.897263Z",
     "shell.execute_reply": "2025-06-21T23:42:15.896487Z",
     "shell.execute_reply.started": "2025-06-21T23:42:11.606149Z"
    },
    "jupyter": {
     "outputs_hidden": true
    },
    "papermill": {
     "duration": null,
     "end_time": null,
     "exception": null,
     "start_time": null,
     "status": "completed"
    },
    "tags": []
   },
   "outputs": [],
   "source": [
    "!pip install transformers datasets evaluate\n"
   ]
  },
  {
   "cell_type": "code",
   "execution_count": null,
   "id": "41ae52ca",
   "metadata": {
    "collapsed": true,
    "execution": {
     "iopub.execute_input": "2025-06-21T23:42:20.145989Z",
     "iopub.status.busy": "2025-06-21T23:42:20.145607Z",
     "iopub.status.idle": "2025-06-21T23:42:25.406891Z",
     "shell.execute_reply": "2025-06-21T23:42:25.406033Z",
     "shell.execute_reply.started": "2025-06-21T23:42:20.145957Z"
    },
    "jupyter": {
     "outputs_hidden": true
    },
    "papermill": {
     "duration": null,
     "end_time": null,
     "exception": null,
     "start_time": null,
     "status": "completed"
    },
    "tags": []
   },
   "outputs": [],
   "source": [
    "!pip install rouge-score\n"
   ]
  },
  {
   "cell_type": "code",
   "execution_count": null,
   "id": "684b17da",
   "metadata": {
    "papermill": {
     "duration": null,
     "end_time": null,
     "exception": null,
     "start_time": null,
     "status": "completed"
    },
    "tags": []
   },
   "outputs": [],
   "source": [
    "import pandas as pd\n",
    "import torch\n",
    "from torch.utils.data import Dataset, DataLoader\n",
    "from transformers import MT5Tokenizer, MT5ForConditionalGeneration\n",
    "from torch.optim import AdamW\n",
    "from tqdm import tqdm\n"
   ]
  },
  {
   "cell_type": "code",
   "execution_count": null,
   "id": "d0835dfc",
   "metadata": {
    "execution": {
     "execution_failed": "2025-06-22T03:19:04.750Z",
     "iopub.execute_input": "2025-06-21T23:42:37.279620Z",
     "iopub.status.busy": "2025-06-21T23:42:37.279022Z"
    },
    "papermill": {
     "duration": null,
     "end_time": null,
     "exception": null,
     "start_time": null,
     "status": "completed"
    },
    "tags": []
   },
   "outputs": [],
   "source": [
    "import torch\n",
    "from torch.utils.data import Dataset, DataLoader\n",
    "from transformers import MT5Tokenizer, MT5ForConditionalGeneration\n",
    "from torch.optim import AdamW\n",
    "from sklearn.model_selection import train_test_split\n",
    "from tqdm.notebook import tqdm  # ✅ version notebook pour barre propre\n",
    "import pandas as pd\n",
    "import nltk\n",
    "import os\n",
    "\n",
    "nltk.download('punkt')\n",
    "nltk.download('stopwords')\n",
    "\n",
    "# ========= Données =========\n",
    "# Assure-toi que xl_sum est déjà chargé comme DataFrame avec colonnes [\"paragraph\", \"summary\"]\n",
    "train_df, val_df = train_test_split(xl_sum, test_size=0.1, random_state=42)\n",
    "train_df = train_df.reset_index(drop=True)\n",
    "val_df = val_df.reset_index(drop=True)\n",
    "\n",
    "# ========= Tokenizer =========\n",
    "model_name = \"csebuetnlp/mT5_multilingual_XLSum\"\n",
    "tokenizer = MT5Tokenizer.from_pretrained(model_name)\n",
    "\n",
    "max_input_length = 256\n",
    "max_target_length = 64\n",
    "\n",
    "class SummarizationDataset(Dataset):\n",
    "    def __init__(self, source_text, target_text, tokenizer):\n",
    "        self.source_text = source_text\n",
    "        self.target_text = target_text\n",
    "        self.tokenizer = tokenizer\n",
    "\n",
    "    def __len__(self):\n",
    "        return len(self.source_text)\n",
    "\n",
    "    def __getitem__(self, index):\n",
    "        input_text = str(self.source_text[index])\n",
    "        target_text = str(self.target_text[index])\n",
    "\n",
    "        input_encoding = self.tokenizer(\n",
    "            input_text,\n",
    "            max_length=max_input_length,\n",
    "            padding=\"max_length\",\n",
    "            truncation=True,\n",
    "            return_tensors=\"pt\"\n",
    "        )\n",
    "\n",
    "        target_encoding = self.tokenizer(\n",
    "            target_text,\n",
    "            max_length=max_target_length,\n",
    "            padding=\"max_length\",\n",
    "            truncation=True,\n",
    "            return_tensors=\"pt\"\n",
    "        )\n",
    "\n",
    "        labels = target_encoding[\"input_ids\"]\n",
    "        labels[labels == tokenizer.pad_token_id] = -100\n",
    "\n",
    "        return {\n",
    "            \"input_ids\": input_encoding[\"input_ids\"].squeeze(),\n",
    "            \"attention_mask\": input_encoding[\"attention_mask\"].squeeze(),\n",
    "            \"labels\": labels.squeeze()\n",
    "        }\n",
    "\n",
    "# ========= Datasets & DataLoaders =========\n",
    "train_dataset = SummarizationDataset(train_df[\"paragraph\"], train_df[\"summary\"], tokenizer)\n",
    "val_dataset = SummarizationDataset(val_df[\"paragraph\"], val_df[\"summary\"], tokenizer)\n",
    "\n",
    "train_loader = DataLoader(train_dataset, batch_size=2, shuffle=True)\n",
    "val_loader = DataLoader(val_dataset, batch_size=2)\n",
    "\n",
    "# ========= Modèle =========\n",
    "device = torch.device(\"cuda\" if torch.cuda.is_available() else \"cpu\")\n",
    "model = MT5ForConditionalGeneration.from_pretrained(model_name).to(device)\n",
    "optimizer = AdamW(model.parameters(), lr=5e-5)\n",
    "\n",
    "# ========= Entraînement =========\n",
    "epochs = 3\n",
    "output_dir = \"/kaggle/working/mt5_finetuned\"  # modifie selon ton environnement\n",
    "\n",
    "os.makedirs(output_dir, exist_ok=True)\n",
    "\n",
    "for epoch in range(epochs):\n",
    "    print(f\"\\n===== Epoch {epoch+1}/{epochs} =====\")\n",
    "    model.train()\n",
    "    total_loss = 0\n",
    "\n",
    "    loop = tqdm(train_loader, leave=True, ncols=100)  # ✅ barre de progression horizontale propre\n",
    "\n",
    "    for batch in loop:\n",
    "        input_ids = batch[\"input_ids\"].to(device)\n",
    "        attention_mask = batch[\"attention_mask\"].to(device)\n",
    "        labels = batch[\"labels\"].to(device)\n",
    "\n",
    "        outputs = model(input_ids=input_ids, attention_mask=attention_mask, labels=labels)\n",
    "        loss = outputs.loss\n",
    "\n",
    "        loss.backward()\n",
    "        optimizer.step()\n",
    "        optimizer.zero_grad()\n",
    "        torch.cuda.empty_cache()\n",
    "\n",
    "        total_loss += loss.item()\n",
    "        loop.set_description(f\"Epoch {epoch+1}\")\n",
    "        loop.set_postfix(loss=loss.item())\n",
    "\n",
    "    avg_loss = total_loss / len(train_loader)\n",
    "    print(f\"✅ Moyenne de la perte à l'époque {epoch+1} : {avg_loss:.4f}\")\n",
    "\n",
    "    # ✅ Sauvegarde du modèle après chaque epoch\n",
    "    epoch_dir = os.path.join(output_dir, f\"epoch_{epoch+1}\")\n",
    "    os.makedirs(epoch_dir, exist_ok=True)\n",
    "    model.save_pretrained(epoch_dir)\n",
    "    tokenizer.save_pretrained(epoch_dir)\n",
    "    print(f\"💾 Modèle sauvegardé dans : {epoch_dir}\")\n"
   ]
  },
  {
   "cell_type": "code",
   "execution_count": null,
   "id": "4458c13b",
   "metadata": {
    "papermill": {
     "duration": null,
     "end_time": null,
     "exception": null,
     "start_time": null,
     "status": "completed"
    },
    "tags": []
   },
   "outputs": [],
   "source": []
  },
  {
   "cell_type": "code",
   "execution_count": null,
   "id": "ac2802a4",
   "metadata": {
    "papermill": {
     "duration": null,
     "end_time": null,
     "exception": null,
     "start_time": null,
     "status": "completed"
    },
    "tags": []
   },
   "outputs": [],
   "source": [
    "model.save_pretrained(\"/kaggle/working/mt5_arabic_xlsum_finetuned\")\n",
    "tokenizer.save_pretrained(\"/kaggle/working/mt5_arabic_xlsum_finetuned\")\n"
   ]
  },
  {
   "cell_type": "code",
   "execution_count": null,
   "id": "a9c6a291",
   "metadata": {
    "papermill": {
     "duration": null,
     "end_time": null,
     "exception": null,
     "start_time": null,
     "status": "completed"
    },
    "tags": []
   },
   "outputs": [],
   "source": [
    "from transformers import AutoTokenizer, AutoModelForSeq2SeqLM\n",
    "import torch\n",
    "\n",
    "model_path = \"/kaggle/working/mt5_arabic_xlsum_finetuned\"\n",
    "device = torch.device(\"cuda\" if torch.cuda.is_available() else \"cpu\")\n",
    "\n",
    "tokenizer = AutoTokenizer.from_pretrained(model_path)\n",
    "model = AutoModelForSeq2SeqLM.from_pretrained(model_path)\n",
    "model.to(device)\n",
    "model.eval()\n"
   ]
  },
  {
   "cell_type": "code",
   "execution_count": null,
   "id": "226145d0",
   "metadata": {
    "papermill": {
     "duration": null,
     "end_time": null,
     "exception": null,
     "start_time": null,
     "status": "completed"
    },
    "tags": []
   },
   "outputs": [],
   "source": [
    "import json\n",
    "\n",
    "test_texts = []\n",
    "test_summaries = []\n",
    "\n",
    "with open('/kaggle/input/arabic-summarization-bbc-news/arabic_test.jsonl', 'r', encoding='utf-8') as f:\n",
    "    for line in f:\n",
    "        data = json.loads(line)\n",
    "        test_texts.append(data['text'])\n",
    "        test_summaries.append(data['summary'])\n"
   ]
  },
  {
   "cell_type": "code",
   "execution_count": null,
   "id": "f53a5637",
   "metadata": {
    "papermill": {
     "duration": null,
     "end_time": null,
     "exception": null,
     "start_time": null,
     "status": "completed"
    },
    "tags": []
   },
   "outputs": [],
   "source": [
    "def generate_summary(text, max_length=150, num_beams=4):\n",
    "    inputs = tokenizer.encode(text, return_tensors='pt', truncation=True, max_length=512).to(device)\n",
    "    summary_ids = model.generate(inputs, max_length=max_length, num_beams=num_beams, early_stopping=True)\n",
    "    summary = tokenizer.decode(summary_ids[0], skip_special_tokens=True)\n",
    "    return summary\n"
   ]
  },
  {
   "cell_type": "code",
   "execution_count": null,
   "id": "dd61b138",
   "metadata": {
    "papermill": {
     "duration": null,
     "end_time": null,
     "exception": null,
     "start_time": null,
     "status": "completed"
    },
    "tags": []
   },
   "outputs": [],
   "source": [
    "pred_summaries = []\n",
    "for txt in test_texts:\n",
    "    pred = generate_summary(txt)\n",
    "    pred_summaries.append(pred)\n"
   ]
  },
  {
   "cell_type": "code",
   "execution_count": null,
   "id": "d5765033",
   "metadata": {
    "papermill": {
     "duration": null,
     "end_time": null,
     "exception": null,
     "start_time": null,
     "status": "completed"
    },
    "tags": []
   },
   "outputs": [],
   "source": [
    "from rouge_score import rouge_scorer\n",
    "import bert_score\n",
    "\n",
    "# ROUGE\n",
    "scorer = rouge_scorer.RougeScorer(['rouge1', 'rouge2', 'rougeL'], use_stemmer=True)\n",
    "rouge1_list, rouge2_list, rougeL_list = [], [], []\n",
    "\n",
    "for ref, pred in zip(test_summaries, pred_summaries):\n",
    "    scores = scorer.score(ref, pred)\n",
    "    rouge1_list.append(scores['rouge1'].fmeasure)\n",
    "    rouge2_list.append(scores['rouge2'].fmeasure)\n",
    "    rougeL_list.append(scores['rougeL'].fmeasure)\n",
    "\n",
    "print(f\"ROUGE-1 F1: {sum(rouge1_list)/len(rouge1_list):.4f}\")\n",
    "print(f\"ROUGE-2 F1: {sum(rouge2_list)/len(rouge2_list):.4f}\")\n",
    "print(f\"ROUGE-L F1: {sum(rougeL_list)/len(rougeL_list):.4f}\")\n",
    "\n",
    "# BERTScore\n",
    "P, R, F1 = bert_score.score(pred_summaries, test_summaries, lang='ar', rescale_with_baseline=True)\n",
    "print(f\"BERTScore Precision: {P.mean().item():.4f}\")\n",
    "print(f\"BERTScore Recall: {R.mean().item():.4f}\")\n",
    "print(f\"BERTScore F1: {F1.mean().item():.4f}\")\n"
   ]
  },
  {
   "cell_type": "code",
   "execution_count": null,
   "id": "ceda36fa",
   "metadata": {
    "papermill": {
     "duration": null,
     "end_time": null,
     "exception": null,
     "start_time": null,
     "status": "completed"
    },
    "tags": []
   },
   "outputs": [],
   "source": [
    "from transformers import MT5Tokenizer, MT5ForConditionalGeneration\n",
    "from torch.utils.data import Dataset, DataLoader\n",
    "import pytorch_lightning as pl\n",
    "import torch\n",
    "import pandas as pd\n",
    "from sklearn.model_selection import train_test_split\n",
    "from rouge_score import rouge_scorer\n"
   ]
  },
  {
   "cell_type": "code",
   "execution_count": null,
   "id": "8fe7b76e",
   "metadata": {
    "papermill": {
     "duration": null,
     "end_time": null,
     "exception": null,
     "start_time": null,
     "status": "completed"
    },
    "tags": []
   },
   "outputs": [],
   "source": [
    "for i in range(3):\n",
    "    print(\"Input:\", xl_sum['paragraph'].iloc[i])\n",
    "    print(\"Target:\", xl_sum['summary'].iloc[i])\n"
   ]
  },
  {
   "cell_type": "code",
   "execution_count": null,
   "id": "06cac6ce",
   "metadata": {
    "papermill": {
     "duration": null,
     "end_time": null,
     "exception": null,
     "start_time": null,
     "status": "completed"
    },
    "tags": []
   },
   "outputs": [],
   "source": [
    "class ArabicSummaryDataset(Dataset):\n",
    "    def __init__(self, dataframe, tokenizer, source_max_len=512, target_max_len=128):\n",
    "        self.tokenizer = tokenizer\n",
    "        self.data = dataframe\n",
    "        self.source_max_len = source_max_len\n",
    "        self.target_max_len = target_max_len\n",
    "\n",
    "    def __len__(self):\n",
    "        return len(self.data)\n",
    "\n",
    "    def __getitem__(self, index):\n",
    "        paragraph = str(self.data.loc[index, 'paragraph'])\n",
    "        summary = str(self.data.loc[index, 'summary'])\n",
    "\n",
    "        source = self.tokenizer.batch_encode_plus(\n",
    "            [paragraph],\n",
    "            max_length=self.source_max_len,\n",
    "            padding='max_length',\n",
    "            truncation=True,\n",
    "            return_tensors='pt'\n",
    "        )\n",
    "\n",
    "        target = self.tokenizer.batch_encode_plus(\n",
    "            [summary],\n",
    "            max_length=self.target_max_len,\n",
    "            padding='max_length',\n",
    "            truncation=True,\n",
    "            return_tensors='pt'\n",
    "        )\n",
    "\n",
    "        return {\n",
    "            'input_ids': source['input_ids'].squeeze(),\n",
    "            'attention_mask': source['attention_mask'].squeeze(),\n",
    "            'labels': target['input_ids'].squeeze()\n",
    "        }\n"
   ]
  },
  {
   "cell_type": "code",
   "execution_count": null,
   "id": "6ef1c4dc",
   "metadata": {
    "papermill": {
     "duration": null,
     "end_time": null,
     "exception": null,
     "start_time": null,
     "status": "completed"
    },
    "tags": []
   },
   "outputs": [],
   "source": [
    "class MT5Summarizer(pl.LightningModule):\n",
    "    def __init__(self, model_name=\"google/mt5-small\", lr=3e-5):\n",
    "        super().__init__()\n",
    "        self.model = MT5ForConditionalGeneration.from_pretrained(model_name)\n",
    "        self.tokenizer = MT5Tokenizer.from_pretrained(model_name)\n",
    "        self.lr = lr\n",
    "        self.rouge = rouge_scorer.RougeScorer(['rouge1', 'rouge2', 'rougeL'], use_stemmer=True)\n",
    "\n",
    "    def forward(self, input_ids, attention_mask, labels=None):\n",
    "        output = self.model(input_ids=input_ids, attention_mask=attention_mask, labels=labels)\n",
    "        return output\n",
    "\n",
    "    def training_step(self, batch, batch_idx):\n",
    "        output = self.forward(batch['input_ids'], batch['attention_mask'], batch['labels'])\n",
    "        loss = output.loss\n",
    "        self.log('train_loss', loss, prog_bar=True)\n",
    "        return loss\n",
    "\n",
    "    def validation_step(self, batch, batch_idx):\n",
    "        output = self.forward(batch['input_ids'], batch['attention_mask'], batch['labels'])\n",
    "        loss = output.loss\n",
    "\n",
    "        preds = self.model.generate(batch['input_ids'], attention_mask=batch['attention_mask'], max_length=128)\n",
    "        pred_str = self.tokenizer.batch_decode(preds, skip_special_tokens=True)\n",
    "        label_str = self.tokenizer.batch_decode(batch['labels'], skip_special_tokens=True)\n",
    "\n",
    "        rouge1, rouge2, rougel = 0, 0, 0\n",
    "        for p, l in zip(pred_str, label_str):\n",
    "            scores = self.rouge.score(p, l)\n",
    "            rouge1 += scores[\"rouge1\"].fmeasure\n",
    "            rouge2 += scores[\"rouge2\"].fmeasure\n",
    "            rougel += scores[\"rougeL\"].fmeasure\n",
    "\n",
    "        n = len(pred_str)\n",
    "        self.log('val_loss', loss, prog_bar=True)\n",
    "        self.log('rouge1', rouge1 / n, prog_bar=True)\n",
    "        self.log('rouge2', rouge2 / n, prog_bar=True)\n",
    "        self.log('rougeL', rougel / n, prog_bar=True)\n",
    "\n",
    "    def configure_optimizers(self):\n",
    "        return torch.optim.AdamW(self.parameters(), lr=self.lr)\n"
   ]
  },
  {
   "cell_type": "code",
   "execution_count": null,
   "id": "69a905dc",
   "metadata": {
    "papermill": {
     "duration": null,
     "end_time": null,
     "exception": null,
     "start_time": null,
     "status": "completed"
    },
    "tags": []
   },
   "outputs": [],
   "source": [
    "from transformers import MT5Tokenizer\n",
    "from sklearn.model_selection import train_test_split\n",
    "from torch.utils.data import DataLoader\n",
    "\n",
    "# Charger le tokenizer mT5\n",
    "tokenizer = MT5Tokenizer.from_pretrained(\"google/mt5-small\")\n",
    "\n",
    "# Split train / validation\n",
    "train_df, val_df = train_test_split(xl_sum, test_size=0.1, random_state=42)\n",
    "\n",
    "# Très important : réinitialiser l'index\n",
    "train_df = train_df.reset_index(drop=True)\n",
    "val_df = val_df.reset_index(drop=True)\n",
    "\n",
    "# Création des datasets (tu dois avoir déjà défini la classe ArabicSummaryDataset)\n",
    "train_dataset = ArabicSummaryDataset(train_df, tokenizer)\n",
    "val_dataset = ArabicSummaryDataset(val_df, tokenizer)\n",
    "\n",
    "# DataLoaders\n",
    "train_loader = DataLoader(train_dataset, batch_size=4, shuffle=True)\n",
    "val_loader = DataLoader(val_dataset, batch_size=4)\n"
   ]
  },
  {
   "cell_type": "code",
   "execution_count": null,
   "id": "47f89ffd",
   "metadata": {
    "papermill": {
     "duration": null,
     "end_time": null,
     "exception": null,
     "start_time": null,
     "status": "completed"
    },
    "tags": []
   },
   "outputs": [],
   "source": [
    "from pytorch_lightning.callbacks import ModelCheckpoint, EarlyStopping\n",
    "\n",
    "\n",
    "checkpoint_callback = ModelCheckpoint(\n",
    "    monitor='val_loss',\n",
    "    dirpath='./checkpoints',           # Folder where to save\n",
    "    filename='mt5-best-checkpoint',    # Final file name\n",
    "    save_top_k=1,                      # ✅ Only one best checkpoint\n",
    "    mode='min'                         # Choose lowest val_loss\n",
    ")\n",
    "\n",
    "\n",
    "early_stop_callback = EarlyStopping(\n",
    "    monitor='val_loss',\n",
    "    patience=3,\n",
    "    verbose=True,\n",
    "    mode='min'\n",
    ")\n",
    "\n",
    "trainer = pl.Trainer(\n",
    "    max_epochs=5,\n",
    "    accelerator='gpu' if torch.cuda.is_available() else 'cpu',\n",
    "    devices=1,\n",
    "    callbacks=[checkpoint_callback, early_stop_callback],\n",
    "    gradient_clip_val=1.0,\n",
    ")\n",
    "\n",
    "\n",
    "\n",
    "\n",
    "model = MT5Summarizer()\n",
    "trainer.fit(model, train_loader, val_loader)\n"
   ]
  },
  {
   "cell_type": "code",
   "execution_count": null,
   "id": "58308328",
   "metadata": {
    "papermill": {
     "duration": null,
     "end_time": null,
     "exception": null,
     "start_time": null,
     "status": "completed"
    },
    "tags": []
   },
   "outputs": [],
   "source": [
    "model.model.save_pretrained(\"mt5_arabic_summary_model\")\n",
    "tokenizer.save_pretrained(\"mt5_arabic_summary_model\")\n"
   ]
  },
  {
   "cell_type": "code",
   "execution_count": null,
   "id": "5e4509fd",
   "metadata": {
    "papermill": {
     "duration": null,
     "end_time": null,
     "exception": null,
     "start_time": null,
     "status": "completed"
    },
    "tags": []
   },
   "outputs": [],
   "source": [
    "import pandas as pd\n",
    "\n",
    "test_df = pd.read_json(\"/kaggle/input/arabic-summarization-bbc-news/arabic_test.jsonl\", lines=True)\n",
    "test_df.head()\n"
   ]
  },
  {
   "cell_type": "code",
   "execution_count": null,
   "id": "a5524438",
   "metadata": {
    "papermill": {
     "duration": null,
     "end_time": null,
     "exception": null,
     "start_time": null,
     "status": "completed"
    },
    "tags": []
   },
   "outputs": [],
   "source": [
    "import json\n",
    "import pandas as pd\n",
    "from transformers import MT5ForConditionalGeneration, MT5Tokenizer\n",
    "from rouge_score import rouge_scorer\n",
    "from tqdm import tqdm\n",
    "import torch\n",
    "\n",
    "# Charger modèle et tokenizer\n",
    "model = MT5ForConditionalGeneration.from_pretrained(\"mt5_arabic_summary_model\").to(\"cuda\")\n",
    "tokenizer = MT5Tokenizer.from_pretrained(\"mt5_arabic_summary_model\")\n",
    "model.eval()\n"
   ]
  },
  {
   "cell_type": "code",
   "execution_count": null,
   "id": "6aa5c1af",
   "metadata": {
    "papermill": {
     "duration": null,
     "end_time": null,
     "exception": null,
     "start_time": null,
     "status": "completed"
    },
    "tags": []
   },
   "outputs": [],
   "source": [
    "# Charger fichier JSONL\n",
    "test_file = '/kaggle/input/arabic-summarization-bbc-news/arabic_test.jsonl'\n",
    "data = []\n",
    "\n",
    "with open(test_file, 'r', encoding='utf-8') as f:\n",
    "    for line in f:\n",
    "        data.append(json.loads(line))\n",
    "\n",
    "# Charger dans un DataFrame\n",
    "df = pd.DataFrame(data)\n",
    "\n",
    "# Garder 60% aléatoirement\n",
    "df_sample = df.sample(frac=0.6, random_state=42).reset_index(drop=True)\n"
   ]
  },
  {
   "cell_type": "code",
   "execution_count": null,
   "id": "c29bb960",
   "metadata": {
    "papermill": {
     "duration": null,
     "end_time": null,
     "exception": null,
     "start_time": null,
     "status": "completed"
    },
    "tags": []
   },
   "outputs": [],
   "source": [
    "scorer = rouge_scorer.RougeScorer(['rouge1', 'rouge2', 'rougeL'], use_stemmer=True)\n",
    "\n",
    "total_rouge1 = 0\n",
    "total_rouge2 = 0\n",
    "total_rougeL = 0\n",
    "\n",
    "for i, row in tqdm(df_sample.iterrows(), total=len(df_sample)):\n",
    "    input_text = row['text']\n",
    "    reference = row['summary']\n",
    "\n",
    "    # Encode input\n",
    "    inputs = tokenizer.encode(input_text, return_tensors='pt', max_length=512, truncation=True).to(\"cuda\")\n",
    "\n",
    "    # Generate summary\n",
    "    output = model.generate(inputs, max_length=128, num_beams=4, early_stopping=True)\n",
    "    prediction = tokenizer.decode(output[0], skip_special_tokens=True)\n",
    "\n",
    "    # Calculate ROUGE\n",
    "    scores = scorer.score(reference, prediction)\n",
    "    total_rouge1 += scores['rouge1'].fmeasure\n",
    "    total_rouge2 += scores['rouge2'].fmeasure\n",
    "    total_rougeL += scores['rougeL'].fmeasure\n",
    "\n",
    "# Moyenne\n",
    "n = len(df_sample)\n",
    "print(f\"✔️ Résultats sur 60% des données de test ({n} exemples) :\")\n",
    "print(f\"ROUGE-1: {total_rouge1 / n:.4f}\")\n",
    "print(f\"ROUGE-2: {total_rouge2 / n:.4f}\")\n",
    "print(f\"ROUGE-L: {total_rougeL / n:.4f}\")\n"
   ]
  },
  {
   "cell_type": "code",
   "execution_count": null,
   "id": "70e5507c",
   "metadata": {
    "papermill": {
     "duration": null,
     "end_time": null,
     "exception": null,
     "start_time": null,
     "status": "completed"
    },
    "tags": []
   },
   "outputs": [],
   "source": [
    "import json\n",
    "import pandas as pd\n",
    "import torch\n",
    "from tqdm import tqdm\n",
    "from transformers import MT5ForConditionalGeneration, MT5Tokenizer\n",
    "from rouge_score import rouge_scorer\n",
    "\n",
    "# =======================\n",
    "# 📦 Chargement du modèle\n",
    "# =======================\n",
    "device = torch.device(\"cuda\" if torch.cuda.is_available() else \"cpu\")\n",
    "model_path = \"mt5_arabic_summary_model\"\n",
    "\n",
    "model = MT5ForConditionalGeneration.from_pretrained(model_path).to(device)\n",
    "tokenizer = MT5Tokenizer.from_pretrained(model_path)\n",
    "model.eval()\n",
    "\n",
    "print(\"✅ Modèle et tokenizer chargés\")\n",
    "\n",
    "# =======================\n",
    "# 📄 Chargement des données\n",
    "# =======================\n",
    "test_path = \"/kaggle/input/arabic-summarization-bbc-news/arabic_test.jsonl\"\n",
    "\n",
    "with open(test_path, 'r', encoding='utf-8') as f:\n",
    "    data = [json.loads(line) for line in f]\n",
    "\n",
    "df = pd.DataFrame(data)\n",
    "\n",
    "# ✂️ Garder un échantillon de 60%\n",
    "df_sample = df.sample(frac=0.2, random_state=42).reset_index(drop=True)\n",
    "print(f\"📊 Nombre d'exemples sélectionnés : {len(df_sample)}\")\n",
    "\n",
    "# =======================\n",
    "# 🧠 Évaluation ROUGE\n",
    "# =======================\n",
    "scorer = rouge_scorer.RougeScorer(['rouge1', 'rouge2', 'rougeL'], use_stemmer=False)  # 🔁 Pas de stemmer pour l'arabe\n",
    "\n",
    "total_rouge1, total_rouge2, total_rougeL = 0.0, 0.0, 0.0\n",
    "results = []\n",
    "\n",
    "print(\"🚀 Début de l'évaluation...\")\n",
    "for _, row in tqdm(df_sample.iterrows(), total=len(df_sample)):\n",
    "    input_text = row['text']\n",
    "    reference = row['summary']\n",
    "\n",
    "    # Tokenisation + génération\n",
    "    inputs = tokenizer.encode(input_text, return_tensors='pt', max_length=512, truncation=True).to(device)\n",
    "\n",
    "    with torch.no_grad():\n",
    "        output_ids = model.generate(\n",
    "            inputs,\n",
    "            max_length=128,\n",
    "            num_beams=4,\n",
    "            early_stopping=True,\n",
    "            no_repeat_ngram_size=3\n",
    "        )\n",
    "\n",
    "    prediction = tokenizer.decode(output_ids[0], skip_special_tokens=True)\n",
    "\n",
    "    # ROUGE score\n",
    "    scores = scorer.score(reference, prediction)\n",
    "    total_rouge1 += scores['rouge1'].fmeasure\n",
    "    total_rouge2 += scores['rouge2'].fmeasure\n",
    "    total_rougeL += scores['rougeL'].fmeasure\n",
    "\n",
    "    # Stocker les résultats pour inspection manuelle\n",
    "    results.append({\n",
    "        \"Text\": input_text,\n",
    "        \"Reference\": reference,\n",
    "        \"Prediction\": prediction,\n",
    "        \"ROUGE-1\": round(scores['rouge1'].fmeasure, 4),\n",
    "        \"ROUGE-2\": round(scores['rouge2'].fmeasure, 4),\n",
    "        \"ROUGE-L\": round(scores['rougeL'].fmeasure, 4),\n",
    "    })\n",
    "\n",
    "# =======================\n",
    "# ✅ Résultats finaux\n",
    "# =======================\n",
    "n = len(df_sample)\n",
    "avg_r1 = total_rouge1 / n\n",
    "avg_r2 = total_rouge2 / n\n",
    "avg_rL = total_rougeL / n\n",
    "\n",
    "print(f\"\\n✔️ Évaluation sur {n} exemples :\")\n",
    "print(f\"ROUGE-1: {avg_r1:.4f}\")\n",
    "print(f\"ROUGE-2: {avg_r2:.4f}\")\n",
    "print(f\"ROUGE-L: {avg_rL:.4f}\")\n",
    "\n",
    "# =======================\n",
    "# 💾 Sauvegarde facultative\n",
    "# =======================\n",
    "results_df = pd.DataFrame(results)\n",
    "results_df.to_csv(\"evaluation_results.csv\", index=False)\n",
    "print(\"💾 Résultats détaillés sauvegardés dans 'evaluation_results.csv'\")\n"
   ]
  },
  {
   "cell_type": "code",
   "execution_count": null,
   "id": "2a45b75b",
   "metadata": {
    "papermill": {
     "duration": null,
     "end_time": null,
     "exception": null,
     "start_time": null,
     "status": "completed"
    },
    "tags": []
   },
   "outputs": [],
   "source": []
  },
  {
   "cell_type": "code",
   "execution_count": null,
   "id": "5c531385",
   "metadata": {
    "papermill": {
     "duration": null,
     "end_time": null,
     "exception": null,
     "start_time": null,
     "status": "completed"
    },
    "tags": []
   },
   "outputs": [],
   "source": [
    "# Afficher quelques exemples\n",
    "for i in range(5):\n",
    "    print(\"Texte:\", df_sample['text'][i][:300], '...')\n",
    "    print(\"Résumé attendu:\", df_sample['summary'][i])\n",
    "    \n",
    "    inputs = tokenizer.encode(df_sample['text'][i], return_tensors='pt', truncation=True, max_length=512).to(\"cuda\")\n",
    "    output = model.generate(inputs, max_length=128, num_beams=4)\n",
    "    generated = tokenizer.decode(output[0], skip_special_tokens=True)\n",
    "    \n",
    "    print(\"Résumé généré:\", generated)\n",
    "    print(\"-\" * 80)\n"
   ]
  },
  {
   "cell_type": "markdown",
   "id": "7b712e8a",
   "metadata": {
    "papermill": {
     "duration": null,
     "end_time": null,
     "exception": null,
     "start_time": null,
     "status": "completed"
    },
    "tags": []
   },
   "source": [
    "OOF SH**"
   ]
  },
  {
   "cell_type": "code",
   "execution_count": null,
   "id": "0f3ff70c",
   "metadata": {
    "papermill": {
     "duration": null,
     "end_time": null,
     "exception": null,
     "start_time": null,
     "status": "completed"
    },
    "tags": []
   },
   "outputs": [],
   "source": [
    "!pip install -q rouge-score\n"
   ]
  },
  {
   "cell_type": "markdown",
   "id": "d5caa449",
   "metadata": {
    "papermill": {
     "duration": null,
     "end_time": null,
     "exception": null,
     "start_time": null,
     "status": "completed"
    },
    "tags": []
   },
   "source": [
    "!pip install -q transformers datasets rouge-score sentence-transformers\n",
    "MT5 ANOTHER TRY "
   ]
  },
  {
   "cell_type": "code",
   "execution_count": null,
   "id": "ca7e3630",
   "metadata": {
    "papermill": {
     "duration": null,
     "end_time": null,
     "exception": null,
     "start_time": null,
     "status": "completed"
    },
    "tags": []
   },
   "outputs": [],
   "source": [
    "!pip install -q transformers datasets rouge-score sentence-transformers\n"
   ]
  },
  {
   "cell_type": "code",
   "execution_count": null,
   "id": "db1b8798",
   "metadata": {
    "papermill": {
     "duration": null,
     "end_time": null,
     "exception": null,
     "start_time": null,
     "status": "completed"
    },
    "tags": []
   },
   "outputs": [],
   "source": [
    "import pandas as pd\n",
    "from datasets import Dataset\n",
    "from transformers import (\n",
    "    MT5ForConditionalGeneration,\n",
    "    MT5Tokenizer,\n",
    "    DataCollatorForSeq2Seq,\n",
    "    Seq2SeqTrainingArguments,\n",
    "    Seq2SeqTrainer\n",
    ")\n",
    "import nltk\n",
    "nltk.download('punkt')\n",
    "\n",
    "from sklearn.model_selection import train_test_split\n",
    "import torch\n"
   ]
  },
  {
   "cell_type": "code",
   "execution_count": null,
   "id": "055f1085",
   "metadata": {
    "papermill": {
     "duration": null,
     "end_time": null,
     "exception": null,
     "start_time": null,
     "status": "completed"
    },
    "tags": []
   },
   "outputs": [],
   "source": [
    "device = \"cuda\" if torch.cuda.is_available() else \"cpu\"\n",
    "print(\"Device:\", device)\n"
   ]
  },
  {
   "cell_type": "code",
   "execution_count": null,
   "id": "7d713b12",
   "metadata": {
    "papermill": {
     "duration": null,
     "end_time": null,
     "exception": null,
     "start_time": null,
     "status": "completed"
    },
    "tags": []
   },
   "outputs": [],
   "source": [
    "# Tu as déjà nettoyé les données\n",
    "xl_sum = xl_sum.sample(frac=0.5, random_state=42).reset_index(drop=True)\n"
   ]
  },
  {
   "cell_type": "code",
   "execution_count": null,
   "id": "c859f1dd",
   "metadata": {
    "papermill": {
     "duration": null,
     "end_time": null,
     "exception": null,
     "start_time": null,
     "status": "completed"
    },
    "tags": []
   },
   "outputs": [],
   "source": [
    "model_name = \"google/mt5-base\"  # Ou \"google/mt5-large\"\n",
    "tokenizer = MT5Tokenizer.from_pretrained(model_name)\n"
   ]
  },
  {
   "cell_type": "code",
   "execution_count": null,
   "id": "4995ea5b",
   "metadata": {
    "papermill": {
     "duration": null,
     "end_time": null,
     "exception": null,
     "start_time": null,
     "status": "completed"
    },
    "tags": []
   },
   "outputs": [],
   "source": [
    "def preprocess_function(examples):\n",
    "    inputs = [\"تلخيص: \" + ex for ex in examples[\"paragraph\"]]  # Ajoute le prefix \"summarize:\"\n",
    "    targets = examples[\"summary\"]\n",
    "    \n",
    "    model_inputs = tokenizer(inputs, max_length=512, truncation=True, padding=\"max_length\")\n",
    "\n",
    "    labels = tokenizer(targets, max_length=128, truncation=True, padding=\"max_length\")\n",
    "    model_inputs[\"labels\"] = labels[\"input_ids\"]\n",
    "    return model_inputs\n"
   ]
  },
  {
   "cell_type": "code",
   "execution_count": null,
   "id": "84df8c41",
   "metadata": {
    "papermill": {
     "duration": null,
     "end_time": null,
     "exception": null,
     "start_time": null,
     "status": "completed"
    },
    "tags": []
   },
   "outputs": [],
   "source": [
    "dataset = Dataset.from_pandas(xl_sum[['paragraph', 'summary']])\n",
    "dataset = dataset.map(preprocess_function, batched=True)\n"
   ]
  },
  {
   "cell_type": "code",
   "execution_count": null,
   "id": "dd1d4b44",
   "metadata": {
    "papermill": {
     "duration": null,
     "end_time": null,
     "exception": null,
     "start_time": null,
     "status": "completed"
    },
    "tags": []
   },
   "outputs": [],
   "source": [
    "train_test = dataset.train_test_split(test_size=0.2, seed=42)\n",
    "train_dataset = train_test['train']\n",
    "eval_dataset = train_test['test']\n"
   ]
  },
  {
   "cell_type": "code",
   "execution_count": null,
   "id": "c5cdaeb9",
   "metadata": {
    "papermill": {
     "duration": null,
     "end_time": null,
     "exception": null,
     "start_time": null,
     "status": "completed"
    },
    "tags": []
   },
   "outputs": [],
   "source": [
    "model = MT5ForConditionalGeneration.from_pretrained(model_name).to(device)\n"
   ]
  },
  {
   "cell_type": "code",
   "execution_count": null,
   "id": "b537f92b",
   "metadata": {
    "papermill": {
     "duration": null,
     "end_time": null,
     "exception": null,
     "start_time": null,
     "status": "completed"
    },
    "tags": []
   },
   "outputs": [],
   "source": [
    "data_collator = DataCollatorForSeq2Seq(tokenizer, model=model)\n"
   ]
  },
  {
   "cell_type": "code",
   "execution_count": null,
   "id": "02971899",
   "metadata": {
    "papermill": {
     "duration": null,
     "end_time": null,
     "exception": null,
     "start_time": null,
     "status": "completed"
    },
    "tags": []
   },
   "outputs": [],
   "source": [
    "training_args = Seq2SeqTrainingArguments(\n",
    "    output_dir=\"./results\",\n",
    "    eval_strategy=\"no\",\n",
    "    logging_strategy=\"steps\",\n",
    "    logging_steps=200,\n",
    "    save_strategy=\"no\",\n",
    "    per_device_train_batch_size=1,\n",
    "    per_device_eval_batch_size=1,\n",
    "    num_train_epochs=3,\n",
    "    predict_with_generate=True,\n",
    "    fp16=True,\n",
    "    logging_dir=\"./logs\",\n",
    "    logging_first_step=True,\n",
    "    report_to=\"none\",\n",
    ")\n"
   ]
  },
  {
   "cell_type": "code",
   "execution_count": null,
   "id": "65a8be99",
   "metadata": {
    "papermill": {
     "duration": null,
     "end_time": null,
     "exception": null,
     "start_time": null,
     "status": "completed"
    },
    "tags": []
   },
   "outputs": [],
   "source": [
    "trainer = Seq2SeqTrainer(\n",
    "    model=model,\n",
    "    args=training_args,\n",
    "    train_dataset=train_dataset,\n",
    "    eval_dataset=eval_dataset,\n",
    "    tokenizer=tokenizer,\n",
    "    data_collator=data_collator\n",
    ")\n"
   ]
  },
  {
   "cell_type": "code",
   "execution_count": null,
   "id": "9eaded7d",
   "metadata": {
    "papermill": {
     "duration": null,
     "end_time": null,
     "exception": null,
     "start_time": null,
     "status": "completed"
    },
    "tags": []
   },
   "outputs": [],
   "source": [
    "trainer.train()\n"
   ]
  }
 ],
 "metadata": {
  "kaggle": {
   "accelerator": "nvidiaTeslaT4",
   "dataSources": [
    {
     "datasetId": 1828076,
     "sourceId": 2982635,
     "sourceType": "datasetVersion"
    }
   ],
   "dockerImageVersionId": 31040,
   "isGpuEnabled": true,
   "isInternetEnabled": true,
   "language": "python",
   "sourceType": "notebook"
  },
  "kernelspec": {
   "display_name": "Python 3",
   "language": "python",
   "name": "python3"
  },
  "language_info": {
   "codemirror_mode": {
    "name": "ipython",
    "version": 3
   },
   "file_extension": ".py",
   "mimetype": "text/x-python",
   "name": "python",
   "nbconvert_exporter": "python",
   "pygments_lexer": "ipython3",
   "version": "3.11.11"
  },
  "papermill": {
   "default_parameters": {},
   "duration": 2490.302463,
   "end_time": "2025-06-22T11:27:44.788501",
   "environment_variables": {},
   "exception": null,
   "input_path": "__notebook__.ipynb",
   "output_path": "__notebook__.ipynb",
   "parameters": {},
   "start_time": "2025-06-22T10:46:14.486038",
   "version": "2.6.0"
  }
 },
 "nbformat": 4,
 "nbformat_minor": 5
}
